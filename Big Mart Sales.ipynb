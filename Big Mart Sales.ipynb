{
 "cells": [
  {
   "cell_type": "markdown",
   "id": "8f093a39",
   "metadata": {},
   "source": [
    "# Analytics vidya big mart sales"
   ]
  },
  {
   "cell_type": "code",
   "execution_count": 1,
   "id": "43994e14",
   "metadata": {},
   "outputs": [],
   "source": [
    "import io\n",
    "import pandas as pd\n",
    "import numpy as np\n",
    "import matplotlib.pyplot as plt\n",
    "import seaborn as sns\n",
    "%matplotlib inline"
   ]
  },
  {
   "cell_type": "code",
   "execution_count": 2,
   "id": "2342dd5d",
   "metadata": {},
   "outputs": [
    {
     "name": "stdout",
     "output_type": "stream",
     "text": [
      "D:\\Imarticus\\stat\\big mart sales\n"
     ]
    }
   ],
   "source": [
    "%cd \"D:\\Imarticus\\stat\\big mart sales\""
   ]
  },
  {
   "cell_type": "markdown",
   "id": "3e503cba",
   "metadata": {},
   "source": [
    "train file is complete data including dependent variable(y)\n",
    "test file will not have dependent variable(y) which needs to be predicted using model built on train data\n",
    "sample submission file is where predictions are copied for uploading into competition site for checking the result and rank"
   ]
  },
  {
   "cell_type": "code",
   "execution_count": 3,
   "id": "2cae8365",
   "metadata": {},
   "outputs": [],
   "source": [
    "salestrain=pd.read_csv('train_v9rqX0R.csv')\n",
    "salestest=pd.read_csv('test_AbJTz2l.csv')"
   ]
  },
  {
   "cell_type": "code",
   "execution_count": 4,
   "id": "632cd527",
   "metadata": {},
   "outputs": [
    {
     "name": "stdout",
     "output_type": "stream",
     "text": [
      "(8523, 12)\n"
     ]
    }
   ],
   "source": [
    "print(salestrain.shape)"
   ]
  },
  {
   "cell_type": "code",
   "execution_count": 5,
   "id": "acf88cfb",
   "metadata": {},
   "outputs": [
    {
     "name": "stdout",
     "output_type": "stream",
     "text": [
      "(5681, 11)\n"
     ]
    }
   ],
   "source": [
    "print(salestest.shape)"
   ]
  },
  {
   "cell_type": "code",
   "execution_count": 6,
   "id": "09d2336d",
   "metadata": {},
   "outputs": [
    {
     "name": "stdout",
     "output_type": "stream",
     "text": [
      "<class 'pandas.core.frame.DataFrame'>\n",
      "RangeIndex: 8523 entries, 0 to 8522\n",
      "Data columns (total 12 columns):\n",
      " #   Column                     Non-Null Count  Dtype  \n",
      "---  ------                     --------------  -----  \n",
      " 0   Item_Identifier            8523 non-null   object \n",
      " 1   Item_Weight                7060 non-null   float64\n",
      " 2   Item_Fat_Content           8523 non-null   object \n",
      " 3   Item_Visibility            8523 non-null   float64\n",
      " 4   Item_Type                  8523 non-null   object \n",
      " 5   Item_MRP                   8523 non-null   float64\n",
      " 6   Outlet_Identifier          8523 non-null   object \n",
      " 7   Outlet_Establishment_Year  8523 non-null   int64  \n",
      " 8   Outlet_Size                6113 non-null   object \n",
      " 9   Outlet_Location_Type       8523 non-null   object \n",
      " 10  Outlet_Type                8523 non-null   object \n",
      " 11  Item_Outlet_Sales          8523 non-null   float64\n",
      "dtypes: float64(4), int64(1), object(7)\n",
      "memory usage: 799.2+ KB\n"
     ]
    }
   ],
   "source": [
    "salestrain.info()"
   ]
  },
  {
   "cell_type": "code",
   "execution_count": 7,
   "id": "7d71c4f4",
   "metadata": {
    "scrolled": true
   },
   "outputs": [
    {
     "name": "stdout",
     "output_type": "stream",
     "text": [
      "<class 'pandas.core.frame.DataFrame'>\n",
      "RangeIndex: 5681 entries, 0 to 5680\n",
      "Data columns (total 11 columns):\n",
      " #   Column                     Non-Null Count  Dtype  \n",
      "---  ------                     --------------  -----  \n",
      " 0   Item_Identifier            5681 non-null   object \n",
      " 1   Item_Weight                4705 non-null   float64\n",
      " 2   Item_Fat_Content           5681 non-null   object \n",
      " 3   Item_Visibility            5681 non-null   float64\n",
      " 4   Item_Type                  5681 non-null   object \n",
      " 5   Item_MRP                   5681 non-null   float64\n",
      " 6   Outlet_Identifier          5681 non-null   object \n",
      " 7   Outlet_Establishment_Year  5681 non-null   int64  \n",
      " 8   Outlet_Size                4075 non-null   object \n",
      " 9   Outlet_Location_Type       5681 non-null   object \n",
      " 10  Outlet_Type                5681 non-null   object \n",
      "dtypes: float64(3), int64(1), object(7)\n",
      "memory usage: 488.3+ KB\n"
     ]
    }
   ],
   "source": [
    "salestest.info()"
   ]
  },
  {
   "cell_type": "code",
   "execution_count": 8,
   "id": "a6a2ffe7",
   "metadata": {},
   "outputs": [
    {
     "data": {
      "text/html": [
       "<div>\n",
       "<style scoped>\n",
       "    .dataframe tbody tr th:only-of-type {\n",
       "        vertical-align: middle;\n",
       "    }\n",
       "\n",
       "    .dataframe tbody tr th {\n",
       "        vertical-align: top;\n",
       "    }\n",
       "\n",
       "    .dataframe thead th {\n",
       "        text-align: right;\n",
       "    }\n",
       "</style>\n",
       "<table border=\"1\" class=\"dataframe\">\n",
       "  <thead>\n",
       "    <tr style=\"text-align: right;\">\n",
       "      <th></th>\n",
       "      <th>Item_Identifier</th>\n",
       "      <th>Item_Weight</th>\n",
       "      <th>Item_Fat_Content</th>\n",
       "      <th>Item_Visibility</th>\n",
       "      <th>Item_Type</th>\n",
       "      <th>Item_MRP</th>\n",
       "      <th>Outlet_Identifier</th>\n",
       "      <th>Outlet_Establishment_Year</th>\n",
       "      <th>Outlet_Size</th>\n",
       "      <th>Outlet_Location_Type</th>\n",
       "      <th>Outlet_Type</th>\n",
       "      <th>Item_Outlet_Sales</th>\n",
       "    </tr>\n",
       "  </thead>\n",
       "  <tbody>\n",
       "    <tr>\n",
       "      <th>0</th>\n",
       "      <td>FDA15</td>\n",
       "      <td>9.30</td>\n",
       "      <td>Low Fat</td>\n",
       "      <td>0.016047</td>\n",
       "      <td>Dairy</td>\n",
       "      <td>249.8092</td>\n",
       "      <td>OUT049</td>\n",
       "      <td>1999</td>\n",
       "      <td>Medium</td>\n",
       "      <td>Tier 1</td>\n",
       "      <td>Supermarket Type1</td>\n",
       "      <td>3735.1380</td>\n",
       "    </tr>\n",
       "    <tr>\n",
       "      <th>1</th>\n",
       "      <td>DRC01</td>\n",
       "      <td>5.92</td>\n",
       "      <td>Regular</td>\n",
       "      <td>0.019278</td>\n",
       "      <td>Soft Drinks</td>\n",
       "      <td>48.2692</td>\n",
       "      <td>OUT018</td>\n",
       "      <td>2009</td>\n",
       "      <td>Medium</td>\n",
       "      <td>Tier 3</td>\n",
       "      <td>Supermarket Type2</td>\n",
       "      <td>443.4228</td>\n",
       "    </tr>\n",
       "  </tbody>\n",
       "</table>\n",
       "</div>"
      ],
      "text/plain": [
       "  Item_Identifier  Item_Weight Item_Fat_Content  Item_Visibility    Item_Type  \\\n",
       "0           FDA15         9.30          Low Fat         0.016047        Dairy   \n",
       "1           DRC01         5.92          Regular         0.019278  Soft Drinks   \n",
       "\n",
       "   Item_MRP Outlet_Identifier  Outlet_Establishment_Year Outlet_Size  \\\n",
       "0  249.8092            OUT049                       1999      Medium   \n",
       "1   48.2692            OUT018                       2009      Medium   \n",
       "\n",
       "  Outlet_Location_Type        Outlet_Type  Item_Outlet_Sales  \n",
       "0               Tier 1  Supermarket Type1          3735.1380  \n",
       "1               Tier 3  Supermarket Type2           443.4228  "
      ]
     },
     "execution_count": 8,
     "metadata": {},
     "output_type": "execute_result"
    }
   ],
   "source": [
    "salestrain.head(2)"
   ]
  },
  {
   "cell_type": "code",
   "execution_count": 9,
   "id": "8304c022",
   "metadata": {},
   "outputs": [
    {
     "data": {
      "text/html": [
       "<div>\n",
       "<style scoped>\n",
       "    .dataframe tbody tr th:only-of-type {\n",
       "        vertical-align: middle;\n",
       "    }\n",
       "\n",
       "    .dataframe tbody tr th {\n",
       "        vertical-align: top;\n",
       "    }\n",
       "\n",
       "    .dataframe thead th {\n",
       "        text-align: right;\n",
       "    }\n",
       "</style>\n",
       "<table border=\"1\" class=\"dataframe\">\n",
       "  <thead>\n",
       "    <tr style=\"text-align: right;\">\n",
       "      <th></th>\n",
       "      <th>Item_Identifier</th>\n",
       "      <th>Item_Weight</th>\n",
       "      <th>Item_Fat_Content</th>\n",
       "      <th>Item_Visibility</th>\n",
       "      <th>Item_Type</th>\n",
       "      <th>Item_MRP</th>\n",
       "      <th>Outlet_Identifier</th>\n",
       "      <th>Outlet_Establishment_Year</th>\n",
       "      <th>Outlet_Size</th>\n",
       "      <th>Outlet_Location_Type</th>\n",
       "      <th>Outlet_Type</th>\n",
       "    </tr>\n",
       "  </thead>\n",
       "  <tbody>\n",
       "    <tr>\n",
       "      <th>0</th>\n",
       "      <td>FDW58</td>\n",
       "      <td>20.75</td>\n",
       "      <td>Low Fat</td>\n",
       "      <td>0.007565</td>\n",
       "      <td>Snack Foods</td>\n",
       "      <td>107.8622</td>\n",
       "      <td>OUT049</td>\n",
       "      <td>1999</td>\n",
       "      <td>Medium</td>\n",
       "      <td>Tier 1</td>\n",
       "      <td>Supermarket Type1</td>\n",
       "    </tr>\n",
       "    <tr>\n",
       "      <th>1</th>\n",
       "      <td>FDW14</td>\n",
       "      <td>8.30</td>\n",
       "      <td>reg</td>\n",
       "      <td>0.038428</td>\n",
       "      <td>Dairy</td>\n",
       "      <td>87.3198</td>\n",
       "      <td>OUT017</td>\n",
       "      <td>2007</td>\n",
       "      <td>NaN</td>\n",
       "      <td>Tier 2</td>\n",
       "      <td>Supermarket Type1</td>\n",
       "    </tr>\n",
       "  </tbody>\n",
       "</table>\n",
       "</div>"
      ],
      "text/plain": [
       "  Item_Identifier  Item_Weight Item_Fat_Content  Item_Visibility    Item_Type  \\\n",
       "0           FDW58        20.75          Low Fat         0.007565  Snack Foods   \n",
       "1           FDW14         8.30              reg         0.038428        Dairy   \n",
       "\n",
       "   Item_MRP Outlet_Identifier  Outlet_Establishment_Year Outlet_Size  \\\n",
       "0  107.8622            OUT049                       1999      Medium   \n",
       "1   87.3198            OUT017                       2007         NaN   \n",
       "\n",
       "  Outlet_Location_Type        Outlet_Type  \n",
       "0               Tier 1  Supermarket Type1  \n",
       "1               Tier 2  Supermarket Type1  "
      ]
     },
     "execution_count": 9,
     "metadata": {},
     "output_type": "execute_result"
    }
   ],
   "source": [
    "salestest.head(2)"
   ]
  },
  {
   "cell_type": "markdown",
   "id": "69c037f5",
   "metadata": {},
   "source": [
    "combine both dataframes for preprocessing\n",
    "for concatination of 2 dataframes the number ofvariables and sequence of variables must be same.\n",
    "\n",
    "Temporarly add dependent variable to test data for preprocessing"
   ]
  },
  {
   "cell_type": "code",
   "execution_count": 10,
   "id": "cf125df4",
   "metadata": {},
   "outputs": [],
   "source": [
    "#Temporarly add dependent variable to test data for preprocessing\n",
    "salestest['Item_Outlet_Sales']='test'"
   ]
  },
  {
   "cell_type": "code",
   "execution_count": 11,
   "id": "5e81cce1",
   "metadata": {},
   "outputs": [],
   "source": [
    "# Combine Both Dataframes for preprocessing\n",
    "# For Concatenation of 2 dataframes the number of variables and squence of variables must be same.\n",
    "combinedf=pd.concat([salestrain,salestest],axis=0)\n",
    "# axis=0 is Row wise Concatenation\n",
    "# axis=1 is Column wise Concatenation"
   ]
  },
  {
   "cell_type": "code",
   "execution_count": 12,
   "id": "8873c31c",
   "metadata": {},
   "outputs": [
    {
     "name": "stdout",
     "output_type": "stream",
     "text": [
      "<class 'pandas.core.frame.DataFrame'>\n",
      "Index: 14204 entries, 0 to 5680\n",
      "Data columns (total 12 columns):\n",
      " #   Column                     Non-Null Count  Dtype  \n",
      "---  ------                     --------------  -----  \n",
      " 0   Item_Identifier            14204 non-null  object \n",
      " 1   Item_Weight                11765 non-null  float64\n",
      " 2   Item_Fat_Content           14204 non-null  object \n",
      " 3   Item_Visibility            14204 non-null  float64\n",
      " 4   Item_Type                  14204 non-null  object \n",
      " 5   Item_MRP                   14204 non-null  float64\n",
      " 6   Outlet_Identifier          14204 non-null  object \n",
      " 7   Outlet_Establishment_Year  14204 non-null  int64  \n",
      " 8   Outlet_Size                10188 non-null  object \n",
      " 9   Outlet_Location_Type       14204 non-null  object \n",
      " 10  Outlet_Type                14204 non-null  object \n",
      " 11  Item_Outlet_Sales          14204 non-null  object \n",
      "dtypes: float64(3), int64(1), object(8)\n",
      "memory usage: 1.4+ MB\n"
     ]
    }
   ],
   "source": [
    "combinedf.info()"
   ]
  },
  {
   "cell_type": "code",
   "execution_count": 13,
   "id": "7f3d4031",
   "metadata": {},
   "outputs": [
    {
     "data": {
      "text/html": [
       "<div>\n",
       "<style scoped>\n",
       "    .dataframe tbody tr th:only-of-type {\n",
       "        vertical-align: middle;\n",
       "    }\n",
       "\n",
       "    .dataframe tbody tr th {\n",
       "        vertical-align: top;\n",
       "    }\n",
       "\n",
       "    .dataframe thead th {\n",
       "        text-align: right;\n",
       "    }\n",
       "</style>\n",
       "<table border=\"1\" class=\"dataframe\">\n",
       "  <thead>\n",
       "    <tr style=\"text-align: right;\">\n",
       "      <th></th>\n",
       "      <th>Item_Weight</th>\n",
       "      <th>Item_Visibility</th>\n",
       "      <th>Item_MRP</th>\n",
       "      <th>Outlet_Establishment_Year</th>\n",
       "    </tr>\n",
       "  </thead>\n",
       "  <tbody>\n",
       "    <tr>\n",
       "      <th>count</th>\n",
       "      <td>11765.000000</td>\n",
       "      <td>14204.000000</td>\n",
       "      <td>14204.000000</td>\n",
       "      <td>14204.000000</td>\n",
       "    </tr>\n",
       "    <tr>\n",
       "      <th>mean</th>\n",
       "      <td>12.792854</td>\n",
       "      <td>0.065953</td>\n",
       "      <td>141.004977</td>\n",
       "      <td>1997.830681</td>\n",
       "    </tr>\n",
       "    <tr>\n",
       "      <th>std</th>\n",
       "      <td>4.652502</td>\n",
       "      <td>0.051459</td>\n",
       "      <td>62.086938</td>\n",
       "      <td>8.371664</td>\n",
       "    </tr>\n",
       "    <tr>\n",
       "      <th>min</th>\n",
       "      <td>4.555000</td>\n",
       "      <td>0.000000</td>\n",
       "      <td>31.290000</td>\n",
       "      <td>1985.000000</td>\n",
       "    </tr>\n",
       "    <tr>\n",
       "      <th>25%</th>\n",
       "      <td>8.710000</td>\n",
       "      <td>0.027036</td>\n",
       "      <td>94.012000</td>\n",
       "      <td>1987.000000</td>\n",
       "    </tr>\n",
       "    <tr>\n",
       "      <th>50%</th>\n",
       "      <td>12.600000</td>\n",
       "      <td>0.054021</td>\n",
       "      <td>142.247000</td>\n",
       "      <td>1999.000000</td>\n",
       "    </tr>\n",
       "    <tr>\n",
       "      <th>75%</th>\n",
       "      <td>16.750000</td>\n",
       "      <td>0.094037</td>\n",
       "      <td>185.855600</td>\n",
       "      <td>2004.000000</td>\n",
       "    </tr>\n",
       "    <tr>\n",
       "      <th>max</th>\n",
       "      <td>21.350000</td>\n",
       "      <td>0.328391</td>\n",
       "      <td>266.888400</td>\n",
       "      <td>2009.000000</td>\n",
       "    </tr>\n",
       "  </tbody>\n",
       "</table>\n",
       "</div>"
      ],
      "text/plain": [
       "        Item_Weight  Item_Visibility      Item_MRP  Outlet_Establishment_Year\n",
       "count  11765.000000     14204.000000  14204.000000               14204.000000\n",
       "mean      12.792854         0.065953    141.004977                1997.830681\n",
       "std        4.652502         0.051459     62.086938                   8.371664\n",
       "min        4.555000         0.000000     31.290000                1985.000000\n",
       "25%        8.710000         0.027036     94.012000                1987.000000\n",
       "50%       12.600000         0.054021    142.247000                1999.000000\n",
       "75%       16.750000         0.094037    185.855600                2004.000000\n",
       "max       21.350000         0.328391    266.888400                2009.000000"
      ]
     },
     "execution_count": 13,
     "metadata": {},
     "output_type": "execute_result"
    }
   ],
   "source": [
    "combinedf.describe()\n",
    "#numeric variable - mean or median imputation can be done"
   ]
  },
  {
   "cell_type": "code",
   "execution_count": 14,
   "id": "deaea8b5",
   "metadata": {},
   "outputs": [],
   "source": [
    "#mean imputation\n",
    "combinedf.Item_Weight=combinedf.Item_Weight.fillna(combinedf.Item_Weight.mean())"
   ]
  },
  {
   "cell_type": "code",
   "execution_count": 15,
   "id": "9a37ce1c",
   "metadata": {},
   "outputs": [
    {
     "name": "stdout",
     "output_type": "stream",
     "text": [
      "<class 'pandas.core.frame.DataFrame'>\n",
      "Index: 14204 entries, 0 to 5680\n",
      "Data columns (total 12 columns):\n",
      " #   Column                     Non-Null Count  Dtype  \n",
      "---  ------                     --------------  -----  \n",
      " 0   Item_Identifier            14204 non-null  object \n",
      " 1   Item_Weight                14204 non-null  float64\n",
      " 2   Item_Fat_Content           14204 non-null  object \n",
      " 3   Item_Visibility            14204 non-null  float64\n",
      " 4   Item_Type                  14204 non-null  object \n",
      " 5   Item_MRP                   14204 non-null  float64\n",
      " 6   Outlet_Identifier          14204 non-null  object \n",
      " 7   Outlet_Establishment_Year  14204 non-null  int64  \n",
      " 8   Outlet_Size                10188 non-null  object \n",
      " 9   Outlet_Location_Type       14204 non-null  object \n",
      " 10  Outlet_Type                14204 non-null  object \n",
      " 11  Item_Outlet_Sales          14204 non-null  object \n",
      "dtypes: float64(3), int64(1), object(8)\n",
      "memory usage: 1.4+ MB\n"
     ]
    }
   ],
   "source": [
    "combinedf.info()"
   ]
  },
  {
   "cell_type": "code",
   "execution_count": 16,
   "id": "dc90f34c",
   "metadata": {},
   "outputs": [
    {
     "data": {
      "text/plain": [
       "Outlet_Size\n",
       "Medium    4655\n",
       "NaN       4016\n",
       "Small     3980\n",
       "High      1553\n",
       "Name: count, dtype: int64"
      ]
     },
     "execution_count": 16,
     "metadata": {},
     "output_type": "execute_result"
    }
   ],
   "source": [
    "combinedf.Outlet_Size.value_counts(dropna=False)\n",
    "#since missing values are very and cannot be imputed with existing levels,impute with word missing"
   ]
  },
  {
   "cell_type": "code",
   "execution_count": 17,
   "id": "03e2a681",
   "metadata": {},
   "outputs": [],
   "source": [
    "combinedf.Outlet_Size=combinedf.Outlet_Size.fillna(\"Missing\")"
   ]
  },
  {
   "cell_type": "code",
   "execution_count": 18,
   "id": "43b799ae",
   "metadata": {},
   "outputs": [
    {
     "name": "stdout",
     "output_type": "stream",
     "text": [
      "<class 'pandas.core.frame.DataFrame'>\n",
      "Index: 14204 entries, 0 to 5680\n",
      "Data columns (total 12 columns):\n",
      " #   Column                     Non-Null Count  Dtype  \n",
      "---  ------                     --------------  -----  \n",
      " 0   Item_Identifier            14204 non-null  object \n",
      " 1   Item_Weight                14204 non-null  float64\n",
      " 2   Item_Fat_Content           14204 non-null  object \n",
      " 3   Item_Visibility            14204 non-null  float64\n",
      " 4   Item_Type                  14204 non-null  object \n",
      " 5   Item_MRP                   14204 non-null  float64\n",
      " 6   Outlet_Identifier          14204 non-null  object \n",
      " 7   Outlet_Establishment_Year  14204 non-null  int64  \n",
      " 8   Outlet_Size                14204 non-null  object \n",
      " 9   Outlet_Location_Type       14204 non-null  object \n",
      " 10  Outlet_Type                14204 non-null  object \n",
      " 11  Item_Outlet_Sales          14204 non-null  object \n",
      "dtypes: float64(3), int64(1), object(8)\n",
      "memory usage: 1.4+ MB\n"
     ]
    }
   ],
   "source": [
    "combinedf.info()"
   ]
  },
  {
   "cell_type": "code",
   "execution_count": 19,
   "id": "680d4947",
   "metadata": {},
   "outputs": [
    {
     "data": {
      "text/plain": [
       "Item_Fat_Content\n",
       "Low Fat    8485\n",
       "Regular    4824\n",
       "LF          522\n",
       "reg         195\n",
       "low fat     178\n",
       "Name: count, dtype: int64"
      ]
     },
     "execution_count": 19,
     "metadata": {},
     "output_type": "execute_result"
    }
   ],
   "source": [
    "combinedf.Item_Fat_Content.value_counts(dropna=False) #duplicates levels/groups"
   ]
  },
  {
   "cell_type": "code",
   "execution_count": 20,
   "id": "ff759202",
   "metadata": {},
   "outputs": [],
   "source": [
    "combinedf.Item_Fat_Content=combinedf.Item_Fat_Content.replace(['LF','low fat'],'Low Fat')"
   ]
  },
  {
   "cell_type": "code",
   "execution_count": 21,
   "id": "d66b859e",
   "metadata": {},
   "outputs": [],
   "source": [
    "combinedf.Item_Fat_Content=combinedf.Item_Fat_Content.replace('reg','Regular')"
   ]
  },
  {
   "cell_type": "code",
   "execution_count": 22,
   "id": "da03e397",
   "metadata": {},
   "outputs": [
    {
     "data": {
      "text/plain": [
       "Item_Fat_Content\n",
       "Low Fat    9185\n",
       "Regular    5019\n",
       "Name: count, dtype: int64"
      ]
     },
     "execution_count": 22,
     "metadata": {},
     "output_type": "execute_result"
    }
   ],
   "source": [
    "combinedf.Item_Fat_Content.value_counts(dropna=False)"
   ]
  },
  {
   "cell_type": "markdown",
   "id": "696a2912",
   "metadata": {},
   "source": [
    "# split data into numeric cols and object cols"
   ]
  },
  {
   "cell_type": "code",
   "execution_count": 23,
   "id": "f7f3ef19",
   "metadata": {},
   "outputs": [],
   "source": [
    "numcols=combinedf.select_dtypes(include=np.number)\n",
    "objcols=combinedf.select_dtypes(include=['object'])"
   ]
  },
  {
   "cell_type": "code",
   "execution_count": 24,
   "id": "d162e646",
   "metadata": {},
   "outputs": [
    {
     "data": {
      "text/plain": [
       "Index(['Item_Weight', 'Item_Visibility', 'Item_MRP',\n",
       "       'Outlet_Establishment_Year'],\n",
       "      dtype='object')"
      ]
     },
     "execution_count": 24,
     "metadata": {},
     "output_type": "execute_result"
    }
   ],
   "source": [
    "numcols.columns"
   ]
  },
  {
   "cell_type": "code",
   "execution_count": 25,
   "id": "e6883c67",
   "metadata": {},
   "outputs": [
    {
     "data": {
      "text/plain": [
       "Index(['Item_Identifier', 'Item_Fat_Content', 'Item_Type', 'Outlet_Identifier',\n",
       "       'Outlet_Size', 'Outlet_Location_Type', 'Outlet_Type',\n",
       "       'Item_Outlet_Sales'],\n",
       "      dtype='object')"
      ]
     },
     "execution_count": 25,
     "metadata": {},
     "output_type": "execute_result"
    }
   ],
   "source": [
    "objcols.columns"
   ]
  },
  {
   "cell_type": "code",
   "execution_count": 26,
   "id": "0acc6d24",
   "metadata": {},
   "outputs": [
    {
     "data": {
      "text/plain": [
       "Item_Identifier\n",
       "FDU15    10\n",
       "FDS25    10\n",
       "FDA38    10\n",
       "FDW03    10\n",
       "FDJ10    10\n",
       "         ..\n",
       "FDR51     7\n",
       "FDM52     7\n",
       "DRN11     7\n",
       "FDH58     7\n",
       "NCW54     7\n",
       "Name: count, Length: 1559, dtype: int64"
      ]
     },
     "execution_count": 26,
     "metadata": {},
     "output_type": "execute_result"
    }
   ],
   "source": [
    "combinedf.Item_Identifier.value_counts(dropna=False) "
   ]
  },
  {
   "cell_type": "code",
   "execution_count": 27,
   "id": "697200a1",
   "metadata": {},
   "outputs": [
    {
     "data": {
      "text/plain": [
       "Item_Type\n",
       "Fruits and Vegetables    2013\n",
       "Snack Foods              1989\n",
       "Household                1548\n",
       "Frozen Foods             1426\n",
       "Dairy                    1136\n",
       "Baking Goods             1086\n",
       "Canned                   1084\n",
       "Health and Hygiene        858\n",
       "Meat                      736\n",
       "Soft Drinks               726\n",
       "Breads                    416\n",
       "Hard Drinks               362\n",
       "Others                    280\n",
       "Starchy Foods             269\n",
       "Breakfast                 186\n",
       "Seafood                    89\n",
       "Name: count, dtype: int64"
      ]
     },
     "execution_count": 27,
     "metadata": {},
     "output_type": "execute_result"
    }
   ],
   "source": [
    "objcols.Item_Type.value_counts(dropna=False)"
   ]
  },
  {
   "cell_type": "code",
   "execution_count": 28,
   "id": "e64315d9",
   "metadata": {},
   "outputs": [
    {
     "name": "stdout",
     "output_type": "stream",
     "text": [
      "Item_Fat_Content\n",
      "Low Fat    9185\n",
      "Regular    5019\n",
      "Name: count, dtype: int64\n",
      "Item_Type\n",
      "Fruits and Vegetables    2013\n",
      "Snack Foods              1989\n",
      "Household                1548\n",
      "Frozen Foods             1426\n",
      "Dairy                    1136\n",
      "Baking Goods             1086\n",
      "Canned                   1084\n",
      "Health and Hygiene        858\n",
      "Meat                      736\n",
      "Soft Drinks               726\n",
      "Breads                    416\n",
      "Hard Drinks               362\n",
      "Others                    280\n",
      "Starchy Foods             269\n",
      "Breakfast                 186\n",
      "Seafood                    89\n",
      "Name: count, dtype: int64\n",
      "Outlet_Identifier\n",
      "OUT027    1559\n",
      "OUT013    1553\n",
      "OUT049    1550\n",
      "OUT046    1550\n",
      "OUT035    1550\n",
      "OUT045    1548\n",
      "OUT018    1546\n",
      "OUT017    1543\n",
      "OUT010     925\n",
      "OUT019     880\n",
      "Name: count, dtype: int64\n",
      "Outlet_Size\n",
      "Medium     4655\n",
      "Missing    4016\n",
      "Small      3980\n",
      "High       1553\n",
      "Name: count, dtype: int64\n",
      "Outlet_Location_Type\n",
      "Tier 3    5583\n",
      "Tier 2    4641\n",
      "Tier 1    3980\n",
      "Name: count, dtype: int64\n",
      "Outlet_Type\n",
      "Supermarket Type1    9294\n",
      "Grocery Store        1805\n",
      "Supermarket Type3    1559\n",
      "Supermarket Type2    1546\n",
      "Name: count, dtype: int64\n"
     ]
    }
   ],
   "source": [
    "for col in objcols.columns[1:7]:\n",
    "    freq=objcols[col].value_counts(dropna=False)\n",
    "    print(freq)"
   ]
  },
  {
   "cell_type": "code",
   "execution_count": 29,
   "id": "762a66e5",
   "metadata": {},
   "outputs": [
    {
     "data": {
      "text/plain": [
       "0    FDA15\n",
       "1    DRC01\n",
       "2    FDN15\n",
       "3    FDX07\n",
       "4    NCD19\n",
       "5    FDP36\n",
       "6    FDO10\n",
       "7    FDP10\n",
       "8    FDH17\n",
       "9    FDU28\n",
       "Name: Item_Identifier, dtype: object"
      ]
     },
     "execution_count": 29,
     "metadata": {},
     "output_type": "execute_result"
    }
   ],
   "source": [
    "objcols.Item_Identifier.head(10)"
   ]
  },
  {
   "cell_type": "code",
   "execution_count": 30,
   "id": "26387321",
   "metadata": {},
   "outputs": [],
   "source": [
    "#created a new variable called item_code which is extraction of first 2 characters of item_identifier\n",
    "objcols['Item_code']=objcols.Item_Identifier.apply(lambda x:x[0:2])\n",
    "#lambda function is anoanymos function. Function without name. keyword lambda must be used for lambda arguments"
   ]
  },
  {
   "cell_type": "code",
   "execution_count": 31,
   "id": "6888db32",
   "metadata": {},
   "outputs": [
    {
     "data": {
      "text/plain": [
       "Item_code\n",
       "FD    10201\n",
       "NC     2686\n",
       "DR     1317\n",
       "Name: count, dtype: int64"
      ]
     },
     "execution_count": 31,
     "metadata": {},
     "output_type": "execute_result"
    }
   ],
   "source": [
    "objcols.Item_code.value_counts(dropna=False) #FD-food,DR-drinks,NC-Non-consumable"
   ]
  },
  {
   "cell_type": "code",
   "execution_count": 32,
   "id": "910d2391",
   "metadata": {},
   "outputs": [],
   "source": [
    "# create new variable outlet_age from outlet_establishment_year\n",
    "numcols['Outlet_Age']=2022-numcols.Outlet_Establishment_Year"
   ]
  },
  {
   "cell_type": "code",
   "execution_count": 33,
   "id": "69150aa5",
   "metadata": {},
   "outputs": [
    {
     "data": {
      "text/plain": [
       "count    14204.000000\n",
       "mean        24.169319\n",
       "std          8.371664\n",
       "min         13.000000\n",
       "25%         18.000000\n",
       "50%         23.000000\n",
       "75%         35.000000\n",
       "max         37.000000\n",
       "Name: Outlet_Age, dtype: float64"
      ]
     },
     "execution_count": 33,
     "metadata": {},
     "output_type": "execute_result"
    }
   ],
   "source": [
    "numcols.Outlet_Age.describe()"
   ]
  },
  {
   "cell_type": "code",
   "execution_count": 34,
   "id": "2d8d610e",
   "metadata": {},
   "outputs": [],
   "source": [
    "numcols=numcols.drop('Outlet_Establishment_Year',axis=1)"
   ]
  },
  {
   "cell_type": "code",
   "execution_count": 35,
   "id": "ef72effa",
   "metadata": {},
   "outputs": [
    {
     "data": {
      "text/html": [
       "<div>\n",
       "<style scoped>\n",
       "    .dataframe tbody tr th:only-of-type {\n",
       "        vertical-align: middle;\n",
       "    }\n",
       "\n",
       "    .dataframe tbody tr th {\n",
       "        vertical-align: top;\n",
       "    }\n",
       "\n",
       "    .dataframe thead th {\n",
       "        text-align: right;\n",
       "    }\n",
       "</style>\n",
       "<table border=\"1\" class=\"dataframe\">\n",
       "  <thead>\n",
       "    <tr style=\"text-align: right;\">\n",
       "      <th></th>\n",
       "      <th>Item_Weight</th>\n",
       "      <th>Item_Visibility</th>\n",
       "      <th>Item_MRP</th>\n",
       "      <th>Outlet_Age</th>\n",
       "    </tr>\n",
       "  </thead>\n",
       "  <tbody>\n",
       "    <tr>\n",
       "      <th>0</th>\n",
       "      <td>9.30</td>\n",
       "      <td>0.016047</td>\n",
       "      <td>249.8092</td>\n",
       "      <td>23</td>\n",
       "    </tr>\n",
       "    <tr>\n",
       "      <th>1</th>\n",
       "      <td>5.92</td>\n",
       "      <td>0.019278</td>\n",
       "      <td>48.2692</td>\n",
       "      <td>13</td>\n",
       "    </tr>\n",
       "    <tr>\n",
       "      <th>2</th>\n",
       "      <td>17.50</td>\n",
       "      <td>0.016760</td>\n",
       "      <td>141.6180</td>\n",
       "      <td>23</td>\n",
       "    </tr>\n",
       "    <tr>\n",
       "      <th>3</th>\n",
       "      <td>19.20</td>\n",
       "      <td>0.000000</td>\n",
       "      <td>182.0950</td>\n",
       "      <td>24</td>\n",
       "    </tr>\n",
       "    <tr>\n",
       "      <th>4</th>\n",
       "      <td>8.93</td>\n",
       "      <td>0.000000</td>\n",
       "      <td>53.8614</td>\n",
       "      <td>35</td>\n",
       "    </tr>\n",
       "  </tbody>\n",
       "</table>\n",
       "</div>"
      ],
      "text/plain": [
       "   Item_Weight  Item_Visibility  Item_MRP  Outlet_Age\n",
       "0         9.30         0.016047  249.8092          23\n",
       "1         5.92         0.019278   48.2692          13\n",
       "2        17.50         0.016760  141.6180          23\n",
       "3        19.20         0.000000  182.0950          24\n",
       "4         8.93         0.000000   53.8614          35"
      ]
     },
     "execution_count": 35,
     "metadata": {},
     "output_type": "execute_result"
    }
   ],
   "source": [
    "numcols.head()"
   ]
  },
  {
   "cell_type": "code",
   "execution_count": 36,
   "id": "c43becfd",
   "metadata": {},
   "outputs": [],
   "source": [
    "#standard scaler\n",
    "from sklearn.preprocessing import StandardScaler"
   ]
  },
  {
   "cell_type": "code",
   "execution_count": 37,
   "id": "c20f87ba",
   "metadata": {},
   "outputs": [],
   "source": [
    "scaler=StandardScaler()"
   ]
  },
  {
   "cell_type": "code",
   "execution_count": 38,
   "id": "fc3a7bb4",
   "metadata": {},
   "outputs": [],
   "source": [
    "numcols_scaled=scaler.fit_transform(numcols)"
   ]
  },
  {
   "cell_type": "code",
   "execution_count": 39,
   "id": "413bf0e0",
   "metadata": {},
   "outputs": [],
   "source": [
    "numcols_scaled=pd.DataFrame(numcols_scaled,columns=numcols.columns)"
   ]
  },
  {
   "cell_type": "code",
   "execution_count": 40,
   "id": "027bf394",
   "metadata": {},
   "outputs": [
    {
     "data": {
      "text/html": [
       "<div>\n",
       "<style scoped>\n",
       "    .dataframe tbody tr th:only-of-type {\n",
       "        vertical-align: middle;\n",
       "    }\n",
       "\n",
       "    .dataframe tbody tr th {\n",
       "        vertical-align: top;\n",
       "    }\n",
       "\n",
       "    .dataframe thead th {\n",
       "        text-align: right;\n",
       "    }\n",
       "</style>\n",
       "<table border=\"1\" class=\"dataframe\">\n",
       "  <thead>\n",
       "    <tr style=\"text-align: right;\">\n",
       "      <th></th>\n",
       "      <th>Item_Weight</th>\n",
       "      <th>Item_Visibility</th>\n",
       "      <th>Item_MRP</th>\n",
       "      <th>Outlet_Age</th>\n",
       "    </tr>\n",
       "  </thead>\n",
       "  <tbody>\n",
       "    <tr>\n",
       "      <th>0</th>\n",
       "      <td>-0.824939</td>\n",
       "      <td>-0.969852</td>\n",
       "      <td>1.752511</td>\n",
       "      <td>-0.139681</td>\n",
       "    </tr>\n",
       "    <tr>\n",
       "      <th>1</th>\n",
       "      <td>-1.623224</td>\n",
       "      <td>-0.907063</td>\n",
       "      <td>-1.493696</td>\n",
       "      <td>-1.334228</td>\n",
       "    </tr>\n",
       "    <tr>\n",
       "      <th>2</th>\n",
       "      <td>1.111729</td>\n",
       "      <td>-0.956000</td>\n",
       "      <td>0.009874</td>\n",
       "      <td>-0.139681</td>\n",
       "    </tr>\n",
       "    <tr>\n",
       "      <th>3</th>\n",
       "      <td>1.513233</td>\n",
       "      <td>-1.281712</td>\n",
       "      <td>0.661838</td>\n",
       "      <td>-0.020226</td>\n",
       "    </tr>\n",
       "    <tr>\n",
       "      <th>4</th>\n",
       "      <td>-0.912325</td>\n",
       "      <td>-1.281712</td>\n",
       "      <td>-1.403623</td>\n",
       "      <td>1.293777</td>\n",
       "    </tr>\n",
       "  </tbody>\n",
       "</table>\n",
       "</div>"
      ],
      "text/plain": [
       "   Item_Weight  Item_Visibility  Item_MRP  Outlet_Age\n",
       "0    -0.824939        -0.969852  1.752511   -0.139681\n",
       "1    -1.623224        -0.907063 -1.493696   -1.334228\n",
       "2     1.111729        -0.956000  0.009874   -0.139681\n",
       "3     1.513233        -1.281712  0.661838   -0.020226\n",
       "4    -0.912325        -1.281712 -1.403623    1.293777"
      ]
     },
     "execution_count": 40,
     "metadata": {},
     "output_type": "execute_result"
    }
   ],
   "source": [
    "numcols_scaled.head()"
   ]
  },
  {
   "cell_type": "code",
   "execution_count": 41,
   "id": "39ffd1ff",
   "metadata": {},
   "outputs": [],
   "source": [
    "from sklearn.preprocessing import MinMaxScaler"
   ]
  },
  {
   "cell_type": "code",
   "execution_count": 42,
   "id": "81b3f879",
   "metadata": {},
   "outputs": [],
   "source": [
    "minmax=MinMaxScaler()"
   ]
  },
  {
   "cell_type": "code",
   "execution_count": 43,
   "id": "c0e018ff",
   "metadata": {},
   "outputs": [],
   "source": [
    "numcols_minmax=minmax.fit_transform(numcols)"
   ]
  },
  {
   "cell_type": "code",
   "execution_count": 44,
   "id": "d685371c",
   "metadata": {},
   "outputs": [],
   "source": [
    "numcols_minmax=pd.DataFrame(numcols_minmax,columns=numcols.columns)"
   ]
  },
  {
   "cell_type": "code",
   "execution_count": 45,
   "id": "7ed913cc",
   "metadata": {},
   "outputs": [
    {
     "data": {
      "text/html": [
       "<div>\n",
       "<style scoped>\n",
       "    .dataframe tbody tr th:only-of-type {\n",
       "        vertical-align: middle;\n",
       "    }\n",
       "\n",
       "    .dataframe tbody tr th {\n",
       "        vertical-align: top;\n",
       "    }\n",
       "\n",
       "    .dataframe thead th {\n",
       "        text-align: right;\n",
       "    }\n",
       "</style>\n",
       "<table border=\"1\" class=\"dataframe\">\n",
       "  <thead>\n",
       "    <tr style=\"text-align: right;\">\n",
       "      <th></th>\n",
       "      <th>Item_Weight</th>\n",
       "      <th>Item_Visibility</th>\n",
       "      <th>Item_MRP</th>\n",
       "      <th>Outlet_Age</th>\n",
       "    </tr>\n",
       "  </thead>\n",
       "  <tbody>\n",
       "    <tr>\n",
       "      <th>0</th>\n",
       "      <td>0.282525</td>\n",
       "      <td>0.048866</td>\n",
       "      <td>0.927507</td>\n",
       "      <td>0.416667</td>\n",
       "    </tr>\n",
       "    <tr>\n",
       "      <th>1</th>\n",
       "      <td>0.081274</td>\n",
       "      <td>0.058705</td>\n",
       "      <td>0.072068</td>\n",
       "      <td>0.000000</td>\n",
       "    </tr>\n",
       "    <tr>\n",
       "      <th>2</th>\n",
       "      <td>0.770765</td>\n",
       "      <td>0.051037</td>\n",
       "      <td>0.468288</td>\n",
       "      <td>0.416667</td>\n",
       "    </tr>\n",
       "    <tr>\n",
       "      <th>3</th>\n",
       "      <td>0.871986</td>\n",
       "      <td>0.000000</td>\n",
       "      <td>0.640093</td>\n",
       "      <td>0.458333</td>\n",
       "    </tr>\n",
       "    <tr>\n",
       "      <th>4</th>\n",
       "      <td>0.260494</td>\n",
       "      <td>0.000000</td>\n",
       "      <td>0.095805</td>\n",
       "      <td>0.916667</td>\n",
       "    </tr>\n",
       "  </tbody>\n",
       "</table>\n",
       "</div>"
      ],
      "text/plain": [
       "   Item_Weight  Item_Visibility  Item_MRP  Outlet_Age\n",
       "0     0.282525         0.048866  0.927507    0.416667\n",
       "1     0.081274         0.058705  0.072068    0.000000\n",
       "2     0.770765         0.051037  0.468288    0.416667\n",
       "3     0.871986         0.000000  0.640093    0.458333\n",
       "4     0.260494         0.000000  0.095805    0.916667"
      ]
     },
     "execution_count": 45,
     "metadata": {},
     "output_type": "execute_result"
    }
   ],
   "source": [
    "numcols_minmax.head()"
   ]
  },
  {
   "cell_type": "code",
   "execution_count": 46,
   "id": "e345f285",
   "metadata": {},
   "outputs": [],
   "source": [
    "from sklearn.preprocessing import RobustScaler"
   ]
  },
  {
   "cell_type": "code",
   "execution_count": 47,
   "id": "00622de6",
   "metadata": {},
   "outputs": [],
   "source": [
    "robust=RobustScaler()"
   ]
  },
  {
   "cell_type": "code",
   "execution_count": 48,
   "id": "3d40339e",
   "metadata": {},
   "outputs": [],
   "source": [
    "numcols_robust=robust.fit_transform(numcols)"
   ]
  },
  {
   "cell_type": "code",
   "execution_count": 49,
   "id": "6f3da09d",
   "metadata": {},
   "outputs": [],
   "source": [
    "numcols_robust=pd.DataFrame(numcols_robust,columns=numcols.columns)"
   ]
  },
  {
   "cell_type": "code",
   "execution_count": 50,
   "id": "a687a483",
   "metadata": {},
   "outputs": [
    {
     "data": {
      "text/html": [
       "<div>\n",
       "<style scoped>\n",
       "    .dataframe tbody tr th:only-of-type {\n",
       "        vertical-align: middle;\n",
       "    }\n",
       "\n",
       "    .dataframe tbody tr th {\n",
       "        vertical-align: top;\n",
       "    }\n",
       "\n",
       "    .dataframe thead th {\n",
       "        text-align: right;\n",
       "    }\n",
       "</style>\n",
       "<table border=\"1\" class=\"dataframe\">\n",
       "  <thead>\n",
       "    <tr style=\"text-align: right;\">\n",
       "      <th></th>\n",
       "      <th>Item_Weight</th>\n",
       "      <th>Item_Visibility</th>\n",
       "      <th>Item_MRP</th>\n",
       "      <th>Outlet_Age</th>\n",
       "    </tr>\n",
       "  </thead>\n",
       "  <tbody>\n",
       "    <tr>\n",
       "      <th>0</th>\n",
       "      <td>-0.521322</td>\n",
       "      <td>-0.566751</td>\n",
       "      <td>1.171145</td>\n",
       "      <td>0.000000</td>\n",
       "    </tr>\n",
       "    <tr>\n",
       "      <th>1</th>\n",
       "      <td>-1.025799</td>\n",
       "      <td>-0.518530</td>\n",
       "      <td>-1.023237</td>\n",
       "      <td>-0.588235</td>\n",
       "    </tr>\n",
       "    <tr>\n",
       "      <th>2</th>\n",
       "      <td>0.702559</td>\n",
       "      <td>-0.556113</td>\n",
       "      <td>-0.006849</td>\n",
       "      <td>0.000000</td>\n",
       "    </tr>\n",
       "    <tr>\n",
       "      <th>3</th>\n",
       "      <td>0.956290</td>\n",
       "      <td>-0.806258</td>\n",
       "      <td>0.433868</td>\n",
       "      <td>0.058824</td>\n",
       "    </tr>\n",
       "    <tr>\n",
       "      <th>4</th>\n",
       "      <td>-0.576545</td>\n",
       "      <td>-0.806258</td>\n",
       "      <td>-0.962349</td>\n",
       "      <td>0.705882</td>\n",
       "    </tr>\n",
       "  </tbody>\n",
       "</table>\n",
       "</div>"
      ],
      "text/plain": [
       "   Item_Weight  Item_Visibility  Item_MRP  Outlet_Age\n",
       "0    -0.521322        -0.566751  1.171145    0.000000\n",
       "1    -1.025799        -0.518530 -1.023237   -0.588235\n",
       "2     0.702559        -0.556113 -0.006849    0.000000\n",
       "3     0.956290        -0.806258  0.433868    0.058824\n",
       "4    -0.576545        -0.806258 -0.962349    0.705882"
      ]
     },
     "execution_count": 50,
     "metadata": {},
     "output_type": "execute_result"
    }
   ],
   "source": [
    "numcols_robust.head()"
   ]
  },
  {
   "cell_type": "code",
   "execution_count": 51,
   "id": "52372d4d",
   "metadata": {},
   "outputs": [
    {
     "data": {
      "text/plain": [
       "<Axes: >"
      ]
     },
     "execution_count": 51,
     "metadata": {},
     "output_type": "execute_result"
    },
    {
     "data": {
      "image/png": "[encoded data removed]",
      "text/plain": [
       "<Figure size 640x480 with 1 Axes>"
      ]
     },
     "metadata": {},
     "output_type": "display_data"
    }
   ],
   "source": [
    "sns.boxplot(numcols,orient='h')"
   ]
  },
  {
   "cell_type": "code",
   "execution_count": 52,
   "id": "61df5128",
   "metadata": {},
   "outputs": [
    {
     "data": {
      "text/plain": [
       "Index(['Item_Weight', 'Item_Visibility', 'Item_MRP', 'Outlet_Age'], dtype='object')"
      ]
     },
     "execution_count": 52,
     "metadata": {},
     "output_type": "execute_result"
    }
   ],
   "source": [
    "numcols.columns"
   ]
  },
  {
   "cell_type": "code",
   "execution_count": 53,
   "id": "4480625b",
   "metadata": {},
   "outputs": [
    {
     "data": {
      "text/html": [
       "<div>\n",
       "<style scoped>\n",
       "    .dataframe tbody tr th:only-of-type {\n",
       "        vertical-align: middle;\n",
       "    }\n",
       "\n",
       "    .dataframe tbody tr th {\n",
       "        vertical-align: top;\n",
       "    }\n",
       "\n",
       "    .dataframe thead th {\n",
       "        text-align: right;\n",
       "    }\n",
       "</style>\n",
       "<table border=\"1\" class=\"dataframe\">\n",
       "  <thead>\n",
       "    <tr style=\"text-align: right;\">\n",
       "      <th></th>\n",
       "      <th>Item_Weight</th>\n",
       "      <th>Item_Visibility</th>\n",
       "      <th>Item_MRP</th>\n",
       "      <th>Outlet_Age</th>\n",
       "    </tr>\n",
       "  </thead>\n",
       "  <tbody>\n",
       "    <tr>\n",
       "      <th>Item_Weight</th>\n",
       "      <td>1.000000</td>\n",
       "      <td>-0.013641</td>\n",
       "      <td>0.033002</td>\n",
       "      <td>-0.000462</td>\n",
       "    </tr>\n",
       "    <tr>\n",
       "      <th>Item_Visibility</th>\n",
       "      <td>-0.013641</td>\n",
       "      <td>1.000000</td>\n",
       "      <td>-0.006351</td>\n",
       "      <td>0.083678</td>\n",
       "    </tr>\n",
       "    <tr>\n",
       "      <th>Item_MRP</th>\n",
       "      <td>0.033002</td>\n",
       "      <td>-0.006351</td>\n",
       "      <td>1.000000</td>\n",
       "      <td>-0.000141</td>\n",
       "    </tr>\n",
       "    <tr>\n",
       "      <th>Outlet_Age</th>\n",
       "      <td>-0.000462</td>\n",
       "      <td>0.083678</td>\n",
       "      <td>-0.000141</td>\n",
       "      <td>1.000000</td>\n",
       "    </tr>\n",
       "  </tbody>\n",
       "</table>\n",
       "</div>"
      ],
      "text/plain": [
       "                 Item_Weight  Item_Visibility  Item_MRP  Outlet_Age\n",
       "Item_Weight         1.000000        -0.013641  0.033002   -0.000462\n",
       "Item_Visibility    -0.013641         1.000000 -0.006351    0.083678\n",
       "Item_MRP            0.033002        -0.006351  1.000000   -0.000141\n",
       "Outlet_Age         -0.000462         0.083678 -0.000141    1.000000"
      ]
     },
     "execution_count": 53,
     "metadata": {},
     "output_type": "execute_result"
    }
   ],
   "source": [
    "numcols.corr()"
   ]
  },
  {
   "cell_type": "code",
   "execution_count": 54,
   "id": "b0c35046",
   "metadata": {},
   "outputs": [
    {
     "data": {
      "text/plain": [
       "Index(['Item_Identifier', 'Item_Fat_Content', 'Item_Type', 'Outlet_Identifier',\n",
       "       'Outlet_Size', 'Outlet_Location_Type', 'Outlet_Type',\n",
       "       'Item_Outlet_Sales', 'Item_code'],\n",
       "      dtype='object')"
      ]
     },
     "execution_count": 54,
     "metadata": {},
     "output_type": "execute_result"
    }
   ],
   "source": [
    "objcols.columns"
   ]
  },
  {
   "cell_type": "code",
   "execution_count": 55,
   "id": "b67bc71c",
   "metadata": {},
   "outputs": [],
   "source": [
    "numcols['Item_Outlet_Sales']=objcols.Item_Outlet_Sales"
   ]
  },
  {
   "cell_type": "code",
   "execution_count": 56,
   "id": "0fc7535f",
   "metadata": {},
   "outputs": [],
   "source": [
    "objcols=objcols.drop(['Item_Outlet_Sales','Item_Identifier'],axis=1)"
   ]
  },
  {
   "cell_type": "code",
   "execution_count": 57,
   "id": "c85ec3fe",
   "metadata": {},
   "outputs": [],
   "source": [
    "objcols_dummy=pd.get_dummies(objcols)"
   ]
  },
  {
   "cell_type": "code",
   "execution_count": 58,
   "id": "bdf67d91",
   "metadata": {
    "scrolled": true
   },
   "outputs": [
    {
     "data": {
      "text/html": [
       "<div>\n",
       "<style scoped>\n",
       "    .dataframe tbody tr th:only-of-type {\n",
       "        vertical-align: middle;\n",
       "    }\n",
       "\n",
       "    .dataframe tbody tr th {\n",
       "        vertical-align: top;\n",
       "    }\n",
       "\n",
       "    .dataframe thead th {\n",
       "        text-align: right;\n",
       "    }\n",
       "</style>\n",
       "<table border=\"1\" class=\"dataframe\">\n",
       "  <thead>\n",
       "    <tr style=\"text-align: right;\">\n",
       "      <th></th>\n",
       "      <th>Item_Fat_Content_Low Fat</th>\n",
       "      <th>Item_Fat_Content_Regular</th>\n",
       "      <th>Item_Type_Baking Goods</th>\n",
       "      <th>Item_Type_Breads</th>\n",
       "      <th>Item_Type_Breakfast</th>\n",
       "      <th>Item_Type_Canned</th>\n",
       "      <th>Item_Type_Dairy</th>\n",
       "      <th>Item_Type_Frozen Foods</th>\n",
       "      <th>Item_Type_Fruits and Vegetables</th>\n",
       "      <th>Item_Type_Hard Drinks</th>\n",
       "      <th>...</th>\n",
       "      <th>Outlet_Location_Type_Tier 1</th>\n",
       "      <th>Outlet_Location_Type_Tier 2</th>\n",
       "      <th>Outlet_Location_Type_Tier 3</th>\n",
       "      <th>Outlet_Type_Grocery Store</th>\n",
       "      <th>Outlet_Type_Supermarket Type1</th>\n",
       "      <th>Outlet_Type_Supermarket Type2</th>\n",
       "      <th>Outlet_Type_Supermarket Type3</th>\n",
       "      <th>Item_code_DR</th>\n",
       "      <th>Item_code_FD</th>\n",
       "      <th>Item_code_NC</th>\n",
       "    </tr>\n",
       "  </thead>\n",
       "  <tbody>\n",
       "    <tr>\n",
       "      <th>0</th>\n",
       "      <td>True</td>\n",
       "      <td>False</td>\n",
       "      <td>False</td>\n",
       "      <td>False</td>\n",
       "      <td>False</td>\n",
       "      <td>False</td>\n",
       "      <td>True</td>\n",
       "      <td>False</td>\n",
       "      <td>False</td>\n",
       "      <td>False</td>\n",
       "      <td>...</td>\n",
       "      <td>True</td>\n",
       "      <td>False</td>\n",
       "      <td>False</td>\n",
       "      <td>False</td>\n",
       "      <td>True</td>\n",
       "      <td>False</td>\n",
       "      <td>False</td>\n",
       "      <td>False</td>\n",
       "      <td>True</td>\n",
       "      <td>False</td>\n",
       "    </tr>\n",
       "    <tr>\n",
       "      <th>1</th>\n",
       "      <td>False</td>\n",
       "      <td>True</td>\n",
       "      <td>False</td>\n",
       "      <td>False</td>\n",
       "      <td>False</td>\n",
       "      <td>False</td>\n",
       "      <td>False</td>\n",
       "      <td>False</td>\n",
       "      <td>False</td>\n",
       "      <td>False</td>\n",
       "      <td>...</td>\n",
       "      <td>False</td>\n",
       "      <td>False</td>\n",
       "      <td>True</td>\n",
       "      <td>False</td>\n",
       "      <td>False</td>\n",
       "      <td>True</td>\n",
       "      <td>False</td>\n",
       "      <td>True</td>\n",
       "      <td>False</td>\n",
       "      <td>False</td>\n",
       "    </tr>\n",
       "    <tr>\n",
       "      <th>2</th>\n",
       "      <td>True</td>\n",
       "      <td>False</td>\n",
       "      <td>False</td>\n",
       "      <td>False</td>\n",
       "      <td>False</td>\n",
       "      <td>False</td>\n",
       "      <td>False</td>\n",
       "      <td>False</td>\n",
       "      <td>False</td>\n",
       "      <td>False</td>\n",
       "      <td>...</td>\n",
       "      <td>True</td>\n",
       "      <td>False</td>\n",
       "      <td>False</td>\n",
       "      <td>False</td>\n",
       "      <td>True</td>\n",
       "      <td>False</td>\n",
       "      <td>False</td>\n",
       "      <td>False</td>\n",
       "      <td>True</td>\n",
       "      <td>False</td>\n",
       "    </tr>\n",
       "    <tr>\n",
       "      <th>3</th>\n",
       "      <td>False</td>\n",
       "      <td>True</td>\n",
       "      <td>False</td>\n",
       "      <td>False</td>\n",
       "      <td>False</td>\n",
       "      <td>False</td>\n",
       "      <td>False</td>\n",
       "      <td>False</td>\n",
       "      <td>True</td>\n",
       "      <td>False</td>\n",
       "      <td>...</td>\n",
       "      <td>False</td>\n",
       "      <td>False</td>\n",
       "      <td>True</td>\n",
       "      <td>True</td>\n",
       "      <td>False</td>\n",
       "      <td>False</td>\n",
       "      <td>False</td>\n",
       "      <td>False</td>\n",
       "      <td>True</td>\n",
       "      <td>False</td>\n",
       "    </tr>\n",
       "    <tr>\n",
       "      <th>4</th>\n",
       "      <td>True</td>\n",
       "      <td>False</td>\n",
       "      <td>False</td>\n",
       "      <td>False</td>\n",
       "      <td>False</td>\n",
       "      <td>False</td>\n",
       "      <td>False</td>\n",
       "      <td>False</td>\n",
       "      <td>False</td>\n",
       "      <td>False</td>\n",
       "      <td>...</td>\n",
       "      <td>False</td>\n",
       "      <td>False</td>\n",
       "      <td>True</td>\n",
       "      <td>False</td>\n",
       "      <td>True</td>\n",
       "      <td>False</td>\n",
       "      <td>False</td>\n",
       "      <td>False</td>\n",
       "      <td>False</td>\n",
       "      <td>True</td>\n",
       "    </tr>\n",
       "  </tbody>\n",
       "</table>\n",
       "<p>5 rows × 42 columns</p>\n",
       "</div>"
      ],
      "text/plain": [
       "   Item_Fat_Content_Low Fat  Item_Fat_Content_Regular  Item_Type_Baking Goods  \\\n",
       "0                      True                     False                   False   \n",
       "1                     False                      True                   False   \n",
       "2                      True                     False                   False   \n",
       "3                     False                      True                   False   \n",
       "4                      True                     False                   False   \n",
       "\n",
       "   Item_Type_Breads  Item_Type_Breakfast  Item_Type_Canned  Item_Type_Dairy  \\\n",
       "0             False                False             False             True   \n",
       "1             False                False             False            False   \n",
       "2             False                False             False            False   \n",
       "3             False                False             False            False   \n",
       "4             False                False             False            False   \n",
       "\n",
       "   Item_Type_Frozen Foods  Item_Type_Fruits and Vegetables  \\\n",
       "0                   False                            False   \n",
       "1                   False                            False   \n",
       "2                   False                            False   \n",
       "3                   False                             True   \n",
       "4                   False                            False   \n",
       "\n",
       "   Item_Type_Hard Drinks  ...  Outlet_Location_Type_Tier 1  \\\n",
       "0                  False  ...                         True   \n",
       "1                  False  ...                        False   \n",
       "2                  False  ...                         True   \n",
       "3                  False  ...                        False   \n",
       "4                  False  ...                        False   \n",
       "\n",
       "   Outlet_Location_Type_Tier 2  Outlet_Location_Type_Tier 3  \\\n",
       "0                        False                        False   \n",
       "1                        False                         True   \n",
       "2                        False                        False   \n",
       "3                        False                         True   \n",
       "4                        False                         True   \n",
       "\n",
       "   Outlet_Type_Grocery Store  Outlet_Type_Supermarket Type1  \\\n",
       "0                      False                           True   \n",
       "1                      False                          False   \n",
       "2                      False                           True   \n",
       "3                       True                          False   \n",
       "4                      False                           True   \n",
       "\n",
       "   Outlet_Type_Supermarket Type2  Outlet_Type_Supermarket Type3  Item_code_DR  \\\n",
       "0                          False                          False         False   \n",
       "1                           True                          False          True   \n",
       "2                          False                          False         False   \n",
       "3                          False                          False         False   \n",
       "4                          False                          False         False   \n",
       "\n",
       "   Item_code_FD  Item_code_NC  \n",
       "0          True         False  \n",
       "1         False         False  \n",
       "2          True         False  \n",
       "3          True         False  \n",
       "4         False          True  \n",
       "\n",
       "[5 rows x 42 columns]"
      ]
     },
     "execution_count": 58,
     "metadata": {},
     "output_type": "execute_result"
    }
   ],
   "source": [
    "objcols_dummy.head()"
   ]
  },
  {
   "cell_type": "code",
   "execution_count": 59,
   "id": "0aa04a2d",
   "metadata": {},
   "outputs": [
    {
     "data": {
      "text/html": [
       "<div>\n",
       "<style scoped>\n",
       "    .dataframe tbody tr th:only-of-type {\n",
       "        vertical-align: middle;\n",
       "    }\n",
       "\n",
       "    .dataframe tbody tr th {\n",
       "        vertical-align: top;\n",
       "    }\n",
       "\n",
       "    .dataframe thead th {\n",
       "        text-align: right;\n",
       "    }\n",
       "</style>\n",
       "<table border=\"1\" class=\"dataframe\">\n",
       "  <thead>\n",
       "    <tr style=\"text-align: right;\">\n",
       "      <th></th>\n",
       "      <th>Item_Fat_Content</th>\n",
       "      <th>Item_Type</th>\n",
       "      <th>Outlet_Identifier</th>\n",
       "      <th>Outlet_Size</th>\n",
       "      <th>Outlet_Location_Type</th>\n",
       "      <th>Outlet_Type</th>\n",
       "      <th>Item_code</th>\n",
       "    </tr>\n",
       "  </thead>\n",
       "  <tbody>\n",
       "    <tr>\n",
       "      <th>0</th>\n",
       "      <td>Low Fat</td>\n",
       "      <td>Dairy</td>\n",
       "      <td>OUT049</td>\n",
       "      <td>Medium</td>\n",
       "      <td>Tier 1</td>\n",
       "      <td>Supermarket Type1</td>\n",
       "      <td>FD</td>\n",
       "    </tr>\n",
       "    <tr>\n",
       "      <th>1</th>\n",
       "      <td>Regular</td>\n",
       "      <td>Soft Drinks</td>\n",
       "      <td>OUT018</td>\n",
       "      <td>Medium</td>\n",
       "      <td>Tier 3</td>\n",
       "      <td>Supermarket Type2</td>\n",
       "      <td>DR</td>\n",
       "    </tr>\n",
       "    <tr>\n",
       "      <th>2</th>\n",
       "      <td>Low Fat</td>\n",
       "      <td>Meat</td>\n",
       "      <td>OUT049</td>\n",
       "      <td>Medium</td>\n",
       "      <td>Tier 1</td>\n",
       "      <td>Supermarket Type1</td>\n",
       "      <td>FD</td>\n",
       "    </tr>\n",
       "    <tr>\n",
       "      <th>3</th>\n",
       "      <td>Regular</td>\n",
       "      <td>Fruits and Vegetables</td>\n",
       "      <td>OUT010</td>\n",
       "      <td>Missing</td>\n",
       "      <td>Tier 3</td>\n",
       "      <td>Grocery Store</td>\n",
       "      <td>FD</td>\n",
       "    </tr>\n",
       "    <tr>\n",
       "      <th>4</th>\n",
       "      <td>Low Fat</td>\n",
       "      <td>Household</td>\n",
       "      <td>OUT013</td>\n",
       "      <td>High</td>\n",
       "      <td>Tier 3</td>\n",
       "      <td>Supermarket Type1</td>\n",
       "      <td>NC</td>\n",
       "    </tr>\n",
       "  </tbody>\n",
       "</table>\n",
       "</div>"
      ],
      "text/plain": [
       "  Item_Fat_Content              Item_Type Outlet_Identifier Outlet_Size  \\\n",
       "0          Low Fat                  Dairy            OUT049      Medium   \n",
       "1          Regular            Soft Drinks            OUT018      Medium   \n",
       "2          Low Fat                   Meat            OUT049      Medium   \n",
       "3          Regular  Fruits and Vegetables            OUT010     Missing   \n",
       "4          Low Fat              Household            OUT013        High   \n",
       "\n",
       "  Outlet_Location_Type        Outlet_Type Item_code  \n",
       "0               Tier 1  Supermarket Type1        FD  \n",
       "1               Tier 3  Supermarket Type2        DR  \n",
       "2               Tier 1  Supermarket Type1        FD  \n",
       "3               Tier 3      Grocery Store        FD  \n",
       "4               Tier 3  Supermarket Type1        NC  "
      ]
     },
     "execution_count": 59,
     "metadata": {},
     "output_type": "execute_result"
    }
   ],
   "source": [
    "objcols.head()"
   ]
  },
  {
   "cell_type": "code",
   "execution_count": 60,
   "id": "a34dba2d",
   "metadata": {},
   "outputs": [
    {
     "data": {
      "text/plain": [
       "<function pandas.core.reshape.encoding.get_dummies(data, prefix=None, prefix_sep: 'str | Iterable[str] | dict[str, str]' = '_', dummy_na: 'bool' = False, columns=None, sparse: 'bool' = False, drop_first: 'bool' = False, dtype: 'NpDtype | None' = None) -> 'DataFrame'>"
      ]
     },
     "execution_count": 60,
     "metadata": {},
     "output_type": "execute_result"
    }
   ],
   "source": [
    "pd.get_dummies"
   ]
  },
  {
   "cell_type": "code",
   "execution_count": 61,
   "id": "eed95111",
   "metadata": {},
   "outputs": [
    {
     "name": "stdout",
     "output_type": "stream",
     "text": [
      "<class 'pandas.core.frame.DataFrame'>\n",
      "Index: 14204 entries, 0 to 5680\n",
      "Data columns (total 42 columns):\n",
      " #   Column                           Non-Null Count  Dtype\n",
      "---  ------                           --------------  -----\n",
      " 0   Item_Fat_Content_Low Fat         14204 non-null  bool \n",
      " 1   Item_Fat_Content_Regular         14204 non-null  bool \n",
      " 2   Item_Type_Baking Goods           14204 non-null  bool \n",
      " 3   Item_Type_Breads                 14204 non-null  bool \n",
      " 4   Item_Type_Breakfast              14204 non-null  bool \n",
      " 5   Item_Type_Canned                 14204 non-null  bool \n",
      " 6   Item_Type_Dairy                  14204 non-null  bool \n",
      " 7   Item_Type_Frozen Foods           14204 non-null  bool \n",
      " 8   Item_Type_Fruits and Vegetables  14204 non-null  bool \n",
      " 9   Item_Type_Hard Drinks            14204 non-null  bool \n",
      " 10  Item_Type_Health and Hygiene     14204 non-null  bool \n",
      " 11  Item_Type_Household              14204 non-null  bool \n",
      " 12  Item_Type_Meat                   14204 non-null  bool \n",
      " 13  Item_Type_Others                 14204 non-null  bool \n",
      " 14  Item_Type_Seafood                14204 non-null  bool \n",
      " 15  Item_Type_Snack Foods            14204 non-null  bool \n",
      " 16  Item_Type_Soft Drinks            14204 non-null  bool \n",
      " 17  Item_Type_Starchy Foods          14204 non-null  bool \n",
      " 18  Outlet_Identifier_OUT010         14204 non-null  bool \n",
      " 19  Outlet_Identifier_OUT013         14204 non-null  bool \n",
      " 20  Outlet_Identifier_OUT017         14204 non-null  bool \n",
      " 21  Outlet_Identifier_OUT018         14204 non-null  bool \n",
      " 22  Outlet_Identifier_OUT019         14204 non-null  bool \n",
      " 23  Outlet_Identifier_OUT027         14204 non-null  bool \n",
      " 24  Outlet_Identifier_OUT035         14204 non-null  bool \n",
      " 25  Outlet_Identifier_OUT045         14204 non-null  bool \n",
      " 26  Outlet_Identifier_OUT046         14204 non-null  bool \n",
      " 27  Outlet_Identifier_OUT049         14204 non-null  bool \n",
      " 28  Outlet_Size_High                 14204 non-null  bool \n",
      " 29  Outlet_Size_Medium               14204 non-null  bool \n",
      " 30  Outlet_Size_Missing              14204 non-null  bool \n",
      " 31  Outlet_Size_Small                14204 non-null  bool \n",
      " 32  Outlet_Location_Type_Tier 1      14204 non-null  bool \n",
      " 33  Outlet_Location_Type_Tier 2      14204 non-null  bool \n",
      " 34  Outlet_Location_Type_Tier 3      14204 non-null  bool \n",
      " 35  Outlet_Type_Grocery Store        14204 non-null  bool \n",
      " 36  Outlet_Type_Supermarket Type1    14204 non-null  bool \n",
      " 37  Outlet_Type_Supermarket Type2    14204 non-null  bool \n",
      " 38  Outlet_Type_Supermarket Type3    14204 non-null  bool \n",
      " 39  Item_code_DR                     14204 non-null  bool \n",
      " 40  Item_code_FD                     14204 non-null  bool \n",
      " 41  Item_code_NC                     14204 non-null  bool \n",
      "dtypes: bool(42)\n",
      "memory usage: 693.6 KB\n"
     ]
    }
   ],
   "source": [
    "objcols_dummy.info()"
   ]
  },
  {
   "cell_type": "code",
   "execution_count": 62,
   "id": "43e7ed99",
   "metadata": {},
   "outputs": [],
   "source": [
    "combinedf_clean=pd.concat([numcols,objcols_dummy],axis=1)"
   ]
  },
  {
   "cell_type": "code",
   "execution_count": 63,
   "id": "0b65bafb",
   "metadata": {},
   "outputs": [
    {
     "data": {
      "text/html": [
       "<div>\n",
       "<style scoped>\n",
       "    .dataframe tbody tr th:only-of-type {\n",
       "        vertical-align: middle;\n",
       "    }\n",
       "\n",
       "    .dataframe tbody tr th {\n",
       "        vertical-align: top;\n",
       "    }\n",
       "\n",
       "    .dataframe thead th {\n",
       "        text-align: right;\n",
       "    }\n",
       "</style>\n",
       "<table border=\"1\" class=\"dataframe\">\n",
       "  <thead>\n",
       "    <tr style=\"text-align: right;\">\n",
       "      <th></th>\n",
       "      <th>Item_Weight</th>\n",
       "      <th>Item_Visibility</th>\n",
       "      <th>Item_MRP</th>\n",
       "      <th>Outlet_Age</th>\n",
       "      <th>Item_Outlet_Sales</th>\n",
       "      <th>Item_Fat_Content_Low Fat</th>\n",
       "      <th>Item_Fat_Content_Regular</th>\n",
       "      <th>Item_Type_Baking Goods</th>\n",
       "      <th>Item_Type_Breads</th>\n",
       "      <th>Item_Type_Breakfast</th>\n",
       "      <th>...</th>\n",
       "      <th>Outlet_Location_Type_Tier 1</th>\n",
       "      <th>Outlet_Location_Type_Tier 2</th>\n",
       "      <th>Outlet_Location_Type_Tier 3</th>\n",
       "      <th>Outlet_Type_Grocery Store</th>\n",
       "      <th>Outlet_Type_Supermarket Type1</th>\n",
       "      <th>Outlet_Type_Supermarket Type2</th>\n",
       "      <th>Outlet_Type_Supermarket Type3</th>\n",
       "      <th>Item_code_DR</th>\n",
       "      <th>Item_code_FD</th>\n",
       "      <th>Item_code_NC</th>\n",
       "    </tr>\n",
       "  </thead>\n",
       "  <tbody>\n",
       "    <tr>\n",
       "      <th>0</th>\n",
       "      <td>9.30</td>\n",
       "      <td>0.016047</td>\n",
       "      <td>249.8092</td>\n",
       "      <td>23</td>\n",
       "      <td>3735.138</td>\n",
       "      <td>True</td>\n",
       "      <td>False</td>\n",
       "      <td>False</td>\n",
       "      <td>False</td>\n",
       "      <td>False</td>\n",
       "      <td>...</td>\n",
       "      <td>True</td>\n",
       "      <td>False</td>\n",
       "      <td>False</td>\n",
       "      <td>False</td>\n",
       "      <td>True</td>\n",
       "      <td>False</td>\n",
       "      <td>False</td>\n",
       "      <td>False</td>\n",
       "      <td>True</td>\n",
       "      <td>False</td>\n",
       "    </tr>\n",
       "    <tr>\n",
       "      <th>1</th>\n",
       "      <td>5.92</td>\n",
       "      <td>0.019278</td>\n",
       "      <td>48.2692</td>\n",
       "      <td>13</td>\n",
       "      <td>443.4228</td>\n",
       "      <td>False</td>\n",
       "      <td>True</td>\n",
       "      <td>False</td>\n",
       "      <td>False</td>\n",
       "      <td>False</td>\n",
       "      <td>...</td>\n",
       "      <td>False</td>\n",
       "      <td>False</td>\n",
       "      <td>True</td>\n",
       "      <td>False</td>\n",
       "      <td>False</td>\n",
       "      <td>True</td>\n",
       "      <td>False</td>\n",
       "      <td>True</td>\n",
       "      <td>False</td>\n",
       "      <td>False</td>\n",
       "    </tr>\n",
       "    <tr>\n",
       "      <th>2</th>\n",
       "      <td>17.50</td>\n",
       "      <td>0.016760</td>\n",
       "      <td>141.6180</td>\n",
       "      <td>23</td>\n",
       "      <td>2097.27</td>\n",
       "      <td>True</td>\n",
       "      <td>False</td>\n",
       "      <td>False</td>\n",
       "      <td>False</td>\n",
       "      <td>False</td>\n",
       "      <td>...</td>\n",
       "      <td>True</td>\n",
       "      <td>False</td>\n",
       "      <td>False</td>\n",
       "      <td>False</td>\n",
       "      <td>True</td>\n",
       "      <td>False</td>\n",
       "      <td>False</td>\n",
       "      <td>False</td>\n",
       "      <td>True</td>\n",
       "      <td>False</td>\n",
       "    </tr>\n",
       "    <tr>\n",
       "      <th>3</th>\n",
       "      <td>19.20</td>\n",
       "      <td>0.000000</td>\n",
       "      <td>182.0950</td>\n",
       "      <td>24</td>\n",
       "      <td>732.38</td>\n",
       "      <td>False</td>\n",
       "      <td>True</td>\n",
       "      <td>False</td>\n",
       "      <td>False</td>\n",
       "      <td>False</td>\n",
       "      <td>...</td>\n",
       "      <td>False</td>\n",
       "      <td>False</td>\n",
       "      <td>True</td>\n",
       "      <td>True</td>\n",
       "      <td>False</td>\n",
       "      <td>False</td>\n",
       "      <td>False</td>\n",
       "      <td>False</td>\n",
       "      <td>True</td>\n",
       "      <td>False</td>\n",
       "    </tr>\n",
       "    <tr>\n",
       "      <th>4</th>\n",
       "      <td>8.93</td>\n",
       "      <td>0.000000</td>\n",
       "      <td>53.8614</td>\n",
       "      <td>35</td>\n",
       "      <td>994.7052</td>\n",
       "      <td>True</td>\n",
       "      <td>False</td>\n",
       "      <td>False</td>\n",
       "      <td>False</td>\n",
       "      <td>False</td>\n",
       "      <td>...</td>\n",
       "      <td>False</td>\n",
       "      <td>False</td>\n",
       "      <td>True</td>\n",
       "      <td>False</td>\n",
       "      <td>True</td>\n",
       "      <td>False</td>\n",
       "      <td>False</td>\n",
       "      <td>False</td>\n",
       "      <td>False</td>\n",
       "      <td>True</td>\n",
       "    </tr>\n",
       "    <tr>\n",
       "      <th>...</th>\n",
       "      <td>...</td>\n",
       "      <td>...</td>\n",
       "      <td>...</td>\n",
       "      <td>...</td>\n",
       "      <td>...</td>\n",
       "      <td>...</td>\n",
       "      <td>...</td>\n",
       "      <td>...</td>\n",
       "      <td>...</td>\n",
       "      <td>...</td>\n",
       "      <td>...</td>\n",
       "      <td>...</td>\n",
       "      <td>...</td>\n",
       "      <td>...</td>\n",
       "      <td>...</td>\n",
       "      <td>...</td>\n",
       "      <td>...</td>\n",
       "      <td>...</td>\n",
       "      <td>...</td>\n",
       "      <td>...</td>\n",
       "      <td>...</td>\n",
       "    </tr>\n",
       "    <tr>\n",
       "      <th>5676</th>\n",
       "      <td>10.50</td>\n",
       "      <td>0.013496</td>\n",
       "      <td>141.3154</td>\n",
       "      <td>25</td>\n",
       "      <td>test</td>\n",
       "      <td>False</td>\n",
       "      <td>True</td>\n",
       "      <td>False</td>\n",
       "      <td>False</td>\n",
       "      <td>False</td>\n",
       "      <td>...</td>\n",
       "      <td>True</td>\n",
       "      <td>False</td>\n",
       "      <td>False</td>\n",
       "      <td>False</td>\n",
       "      <td>True</td>\n",
       "      <td>False</td>\n",
       "      <td>False</td>\n",
       "      <td>False</td>\n",
       "      <td>True</td>\n",
       "      <td>False</td>\n",
       "    </tr>\n",
       "    <tr>\n",
       "      <th>5677</th>\n",
       "      <td>7.60</td>\n",
       "      <td>0.142991</td>\n",
       "      <td>169.1448</td>\n",
       "      <td>13</td>\n",
       "      <td>test</td>\n",
       "      <td>False</td>\n",
       "      <td>True</td>\n",
       "      <td>False</td>\n",
       "      <td>False</td>\n",
       "      <td>False</td>\n",
       "      <td>...</td>\n",
       "      <td>False</td>\n",
       "      <td>False</td>\n",
       "      <td>True</td>\n",
       "      <td>False</td>\n",
       "      <td>False</td>\n",
       "      <td>True</td>\n",
       "      <td>False</td>\n",
       "      <td>False</td>\n",
       "      <td>True</td>\n",
       "      <td>False</td>\n",
       "    </tr>\n",
       "    <tr>\n",
       "      <th>5678</th>\n",
       "      <td>10.00</td>\n",
       "      <td>0.073529</td>\n",
       "      <td>118.7440</td>\n",
       "      <td>20</td>\n",
       "      <td>test</td>\n",
       "      <td>True</td>\n",
       "      <td>False</td>\n",
       "      <td>False</td>\n",
       "      <td>False</td>\n",
       "      <td>False</td>\n",
       "      <td>...</td>\n",
       "      <td>False</td>\n",
       "      <td>True</td>\n",
       "      <td>False</td>\n",
       "      <td>False</td>\n",
       "      <td>True</td>\n",
       "      <td>False</td>\n",
       "      <td>False</td>\n",
       "      <td>False</td>\n",
       "      <td>False</td>\n",
       "      <td>True</td>\n",
       "    </tr>\n",
       "    <tr>\n",
       "      <th>5679</th>\n",
       "      <td>15.30</td>\n",
       "      <td>0.000000</td>\n",
       "      <td>214.6218</td>\n",
       "      <td>15</td>\n",
       "      <td>test</td>\n",
       "      <td>False</td>\n",
       "      <td>True</td>\n",
       "      <td>False</td>\n",
       "      <td>False</td>\n",
       "      <td>False</td>\n",
       "      <td>...</td>\n",
       "      <td>False</td>\n",
       "      <td>True</td>\n",
       "      <td>False</td>\n",
       "      <td>False</td>\n",
       "      <td>True</td>\n",
       "      <td>False</td>\n",
       "      <td>False</td>\n",
       "      <td>False</td>\n",
       "      <td>True</td>\n",
       "      <td>False</td>\n",
       "    </tr>\n",
       "    <tr>\n",
       "      <th>5680</th>\n",
       "      <td>9.50</td>\n",
       "      <td>0.104720</td>\n",
       "      <td>79.7960</td>\n",
       "      <td>20</td>\n",
       "      <td>test</td>\n",
       "      <td>False</td>\n",
       "      <td>True</td>\n",
       "      <td>False</td>\n",
       "      <td>False</td>\n",
       "      <td>False</td>\n",
       "      <td>...</td>\n",
       "      <td>False</td>\n",
       "      <td>True</td>\n",
       "      <td>False</td>\n",
       "      <td>False</td>\n",
       "      <td>True</td>\n",
       "      <td>False</td>\n",
       "      <td>False</td>\n",
       "      <td>False</td>\n",
       "      <td>True</td>\n",
       "      <td>False</td>\n",
       "    </tr>\n",
       "  </tbody>\n",
       "</table>\n",
       "<p>14204 rows × 47 columns</p>\n",
       "</div>"
      ],
      "text/plain": [
       "      Item_Weight  Item_Visibility  Item_MRP  Outlet_Age Item_Outlet_Sales  \\\n",
       "0            9.30         0.016047  249.8092          23          3735.138   \n",
       "1            5.92         0.019278   48.2692          13          443.4228   \n",
       "2           17.50         0.016760  141.6180          23           2097.27   \n",
       "3           19.20         0.000000  182.0950          24            732.38   \n",
       "4            8.93         0.000000   53.8614          35          994.7052   \n",
       "...           ...              ...       ...         ...               ...   \n",
       "5676        10.50         0.013496  141.3154          25              test   \n",
       "5677         7.60         0.142991  169.1448          13              test   \n",
       "5678        10.00         0.073529  118.7440          20              test   \n",
       "5679        15.30         0.000000  214.6218          15              test   \n",
       "5680         9.50         0.104720   79.7960          20              test   \n",
       "\n",
       "      Item_Fat_Content_Low Fat  Item_Fat_Content_Regular  \\\n",
       "0                         True                     False   \n",
       "1                        False                      True   \n",
       "2                         True                     False   \n",
       "3                        False                      True   \n",
       "4                         True                     False   \n",
       "...                        ...                       ...   \n",
       "5676                     False                      True   \n",
       "5677                     False                      True   \n",
       "5678                      True                     False   \n",
       "5679                     False                      True   \n",
       "5680                     False                      True   \n",
       "\n",
       "      Item_Type_Baking Goods  Item_Type_Breads  Item_Type_Breakfast  ...  \\\n",
       "0                      False             False                False  ...   \n",
       "1                      False             False                False  ...   \n",
       "2                      False             False                False  ...   \n",
       "3                      False             False                False  ...   \n",
       "4                      False             False                False  ...   \n",
       "...                      ...               ...                  ...  ...   \n",
       "5676                   False             False                False  ...   \n",
       "5677                   False             False                False  ...   \n",
       "5678                   False             False                False  ...   \n",
       "5679                   False             False                False  ...   \n",
       "5680                   False             False                False  ...   \n",
       "\n",
       "      Outlet_Location_Type_Tier 1  Outlet_Location_Type_Tier 2  \\\n",
       "0                            True                        False   \n",
       "1                           False                        False   \n",
       "2                            True                        False   \n",
       "3                           False                        False   \n",
       "4                           False                        False   \n",
       "...                           ...                          ...   \n",
       "5676                         True                        False   \n",
       "5677                        False                        False   \n",
       "5678                        False                         True   \n",
       "5679                        False                         True   \n",
       "5680                        False                         True   \n",
       "\n",
       "      Outlet_Location_Type_Tier 3  Outlet_Type_Grocery Store  \\\n",
       "0                           False                      False   \n",
       "1                            True                      False   \n",
       "2                           False                      False   \n",
       "3                            True                       True   \n",
       "4                            True                      False   \n",
       "...                           ...                        ...   \n",
       "5676                        False                      False   \n",
       "5677                         True                      False   \n",
       "5678                        False                      False   \n",
       "5679                        False                      False   \n",
       "5680                        False                      False   \n",
       "\n",
       "      Outlet_Type_Supermarket Type1  Outlet_Type_Supermarket Type2  \\\n",
       "0                              True                          False   \n",
       "1                             False                           True   \n",
       "2                              True                          False   \n",
       "3                             False                          False   \n",
       "4                              True                          False   \n",
       "...                             ...                            ...   \n",
       "5676                           True                          False   \n",
       "5677                          False                           True   \n",
       "5678                           True                          False   \n",
       "5679                           True                          False   \n",
       "5680                           True                          False   \n",
       "\n",
       "      Outlet_Type_Supermarket Type3  Item_code_DR  Item_code_FD  Item_code_NC  \n",
       "0                             False         False          True         False  \n",
       "1                             False          True         False         False  \n",
       "2                             False         False          True         False  \n",
       "3                             False         False          True         False  \n",
       "4                             False         False         False          True  \n",
       "...                             ...           ...           ...           ...  \n",
       "5676                          False         False          True         False  \n",
       "5677                          False         False          True         False  \n",
       "5678                          False         False         False          True  \n",
       "5679                          False         False          True         False  \n",
       "5680                          False         False          True         False  \n",
       "\n",
       "[14204 rows x 47 columns]"
      ]
     },
     "execution_count": 63,
     "metadata": {},
     "output_type": "execute_result"
    }
   ],
   "source": [
    "combinedf_clean"
   ]
  },
  {
   "cell_type": "code",
   "execution_count": 64,
   "id": "30b25c6c",
   "metadata": {},
   "outputs": [],
   "source": [
    "#split data back to train and test\n",
    "salestrain_df=combinedf_clean[combinedf_clean.Item_Outlet_Sales!='test']\n",
    "salestest_df=combinedf_clean[combinedf_clean.Item_Outlet_Sales=='test']"
   ]
  },
  {
   "cell_type": "code",
   "execution_count": 65,
   "id": "23797fea",
   "metadata": {},
   "outputs": [
    {
     "data": {
      "text/html": [
       "<div>\n",
       "<style scoped>\n",
       "    .dataframe tbody tr th:only-of-type {\n",
       "        vertical-align: middle;\n",
       "    }\n",
       "\n",
       "    .dataframe tbody tr th {\n",
       "        vertical-align: top;\n",
       "    }\n",
       "\n",
       "    .dataframe thead th {\n",
       "        text-align: right;\n",
       "    }\n",
       "</style>\n",
       "<table border=\"1\" class=\"dataframe\">\n",
       "  <thead>\n",
       "    <tr style=\"text-align: right;\">\n",
       "      <th></th>\n",
       "      <th>Item_Weight</th>\n",
       "      <th>Item_Visibility</th>\n",
       "      <th>Item_MRP</th>\n",
       "      <th>Outlet_Age</th>\n",
       "      <th>Item_Outlet_Sales</th>\n",
       "      <th>Item_Fat_Content_Low Fat</th>\n",
       "      <th>Item_Fat_Content_Regular</th>\n",
       "      <th>Item_Type_Baking Goods</th>\n",
       "      <th>Item_Type_Breads</th>\n",
       "      <th>Item_Type_Breakfast</th>\n",
       "      <th>...</th>\n",
       "      <th>Outlet_Location_Type_Tier 1</th>\n",
       "      <th>Outlet_Location_Type_Tier 2</th>\n",
       "      <th>Outlet_Location_Type_Tier 3</th>\n",
       "      <th>Outlet_Type_Grocery Store</th>\n",
       "      <th>Outlet_Type_Supermarket Type1</th>\n",
       "      <th>Outlet_Type_Supermarket Type2</th>\n",
       "      <th>Outlet_Type_Supermarket Type3</th>\n",
       "      <th>Item_code_DR</th>\n",
       "      <th>Item_code_FD</th>\n",
       "      <th>Item_code_NC</th>\n",
       "    </tr>\n",
       "  </thead>\n",
       "  <tbody>\n",
       "    <tr>\n",
       "      <th>0</th>\n",
       "      <td>9.30</td>\n",
       "      <td>0.016047</td>\n",
       "      <td>249.8092</td>\n",
       "      <td>23</td>\n",
       "      <td>3735.138</td>\n",
       "      <td>True</td>\n",
       "      <td>False</td>\n",
       "      <td>False</td>\n",
       "      <td>False</td>\n",
       "      <td>False</td>\n",
       "      <td>...</td>\n",
       "      <td>True</td>\n",
       "      <td>False</td>\n",
       "      <td>False</td>\n",
       "      <td>False</td>\n",
       "      <td>True</td>\n",
       "      <td>False</td>\n",
       "      <td>False</td>\n",
       "      <td>False</td>\n",
       "      <td>True</td>\n",
       "      <td>False</td>\n",
       "    </tr>\n",
       "    <tr>\n",
       "      <th>1</th>\n",
       "      <td>5.92</td>\n",
       "      <td>0.019278</td>\n",
       "      <td>48.2692</td>\n",
       "      <td>13</td>\n",
       "      <td>443.4228</td>\n",
       "      <td>False</td>\n",
       "      <td>True</td>\n",
       "      <td>False</td>\n",
       "      <td>False</td>\n",
       "      <td>False</td>\n",
       "      <td>...</td>\n",
       "      <td>False</td>\n",
       "      <td>False</td>\n",
       "      <td>True</td>\n",
       "      <td>False</td>\n",
       "      <td>False</td>\n",
       "      <td>True</td>\n",
       "      <td>False</td>\n",
       "      <td>True</td>\n",
       "      <td>False</td>\n",
       "      <td>False</td>\n",
       "    </tr>\n",
       "    <tr>\n",
       "      <th>2</th>\n",
       "      <td>17.50</td>\n",
       "      <td>0.016760</td>\n",
       "      <td>141.6180</td>\n",
       "      <td>23</td>\n",
       "      <td>2097.27</td>\n",
       "      <td>True</td>\n",
       "      <td>False</td>\n",
       "      <td>False</td>\n",
       "      <td>False</td>\n",
       "      <td>False</td>\n",
       "      <td>...</td>\n",
       "      <td>True</td>\n",
       "      <td>False</td>\n",
       "      <td>False</td>\n",
       "      <td>False</td>\n",
       "      <td>True</td>\n",
       "      <td>False</td>\n",
       "      <td>False</td>\n",
       "      <td>False</td>\n",
       "      <td>True</td>\n",
       "      <td>False</td>\n",
       "    </tr>\n",
       "    <tr>\n",
       "      <th>3</th>\n",
       "      <td>19.20</td>\n",
       "      <td>0.000000</td>\n",
       "      <td>182.0950</td>\n",
       "      <td>24</td>\n",
       "      <td>732.38</td>\n",
       "      <td>False</td>\n",
       "      <td>True</td>\n",
       "      <td>False</td>\n",
       "      <td>False</td>\n",
       "      <td>False</td>\n",
       "      <td>...</td>\n",
       "      <td>False</td>\n",
       "      <td>False</td>\n",
       "      <td>True</td>\n",
       "      <td>True</td>\n",
       "      <td>False</td>\n",
       "      <td>False</td>\n",
       "      <td>False</td>\n",
       "      <td>False</td>\n",
       "      <td>True</td>\n",
       "      <td>False</td>\n",
       "    </tr>\n",
       "    <tr>\n",
       "      <th>4</th>\n",
       "      <td>8.93</td>\n",
       "      <td>0.000000</td>\n",
       "      <td>53.8614</td>\n",
       "      <td>35</td>\n",
       "      <td>994.7052</td>\n",
       "      <td>True</td>\n",
       "      <td>False</td>\n",
       "      <td>False</td>\n",
       "      <td>False</td>\n",
       "      <td>False</td>\n",
       "      <td>...</td>\n",
       "      <td>False</td>\n",
       "      <td>False</td>\n",
       "      <td>True</td>\n",
       "      <td>False</td>\n",
       "      <td>True</td>\n",
       "      <td>False</td>\n",
       "      <td>False</td>\n",
       "      <td>False</td>\n",
       "      <td>False</td>\n",
       "      <td>True</td>\n",
       "    </tr>\n",
       "  </tbody>\n",
       "</table>\n",
       "<p>5 rows × 47 columns</p>\n",
       "</div>"
      ],
      "text/plain": [
       "   Item_Weight  Item_Visibility  Item_MRP  Outlet_Age Item_Outlet_Sales  \\\n",
       "0         9.30         0.016047  249.8092          23          3735.138   \n",
       "1         5.92         0.019278   48.2692          13          443.4228   \n",
       "2        17.50         0.016760  141.6180          23           2097.27   \n",
       "3        19.20         0.000000  182.0950          24            732.38   \n",
       "4         8.93         0.000000   53.8614          35          994.7052   \n",
       "\n",
       "   Item_Fat_Content_Low Fat  Item_Fat_Content_Regular  Item_Type_Baking Goods  \\\n",
       "0                      True                     False                   False   \n",
       "1                     False                      True                   False   \n",
       "2                      True                     False                   False   \n",
       "3                     False                      True                   False   \n",
       "4                      True                     False                   False   \n",
       "\n",
       "   Item_Type_Breads  Item_Type_Breakfast  ...  Outlet_Location_Type_Tier 1  \\\n",
       "0             False                False  ...                         True   \n",
       "1             False                False  ...                        False   \n",
       "2             False                False  ...                         True   \n",
       "3             False                False  ...                        False   \n",
       "4             False                False  ...                        False   \n",
       "\n",
       "   Outlet_Location_Type_Tier 2  Outlet_Location_Type_Tier 3  \\\n",
       "0                        False                        False   \n",
       "1                        False                         True   \n",
       "2                        False                        False   \n",
       "3                        False                         True   \n",
       "4                        False                         True   \n",
       "\n",
       "   Outlet_Type_Grocery Store  Outlet_Type_Supermarket Type1  \\\n",
       "0                      False                           True   \n",
       "1                      False                          False   \n",
       "2                      False                           True   \n",
       "3                       True                          False   \n",
       "4                      False                           True   \n",
       "\n",
       "   Outlet_Type_Supermarket Type2  Outlet_Type_Supermarket Type3  Item_code_DR  \\\n",
       "0                          False                          False         False   \n",
       "1                           True                          False          True   \n",
       "2                          False                          False         False   \n",
       "3                          False                          False         False   \n",
       "4                          False                          False         False   \n",
       "\n",
       "   Item_code_FD  Item_code_NC  \n",
       "0          True         False  \n",
       "1         False         False  \n",
       "2          True         False  \n",
       "3          True         False  \n",
       "4         False          True  \n",
       "\n",
       "[5 rows x 47 columns]"
      ]
     },
     "execution_count": 65,
     "metadata": {},
     "output_type": "execute_result"
    }
   ],
   "source": [
    "salestrain_df.head()"
   ]
  },
  {
   "cell_type": "code",
   "execution_count": 66,
   "id": "0b096ccd",
   "metadata": {},
   "outputs": [
    {
     "data": {
      "text/html": [
       "<div>\n",
       "<style scoped>\n",
       "    .dataframe tbody tr th:only-of-type {\n",
       "        vertical-align: middle;\n",
       "    }\n",
       "\n",
       "    .dataframe tbody tr th {\n",
       "        vertical-align: top;\n",
       "    }\n",
       "\n",
       "    .dataframe thead th {\n",
       "        text-align: right;\n",
       "    }\n",
       "</style>\n",
       "<table border=\"1\" class=\"dataframe\">\n",
       "  <thead>\n",
       "    <tr style=\"text-align: right;\">\n",
       "      <th></th>\n",
       "      <th>Item_Weight</th>\n",
       "      <th>Item_Visibility</th>\n",
       "      <th>Item_MRP</th>\n",
       "      <th>Outlet_Age</th>\n",
       "      <th>Item_Outlet_Sales</th>\n",
       "      <th>Item_Fat_Content_Low Fat</th>\n",
       "      <th>Item_Fat_Content_Regular</th>\n",
       "      <th>Item_Type_Baking Goods</th>\n",
       "      <th>Item_Type_Breads</th>\n",
       "      <th>Item_Type_Breakfast</th>\n",
       "      <th>...</th>\n",
       "      <th>Outlet_Location_Type_Tier 1</th>\n",
       "      <th>Outlet_Location_Type_Tier 2</th>\n",
       "      <th>Outlet_Location_Type_Tier 3</th>\n",
       "      <th>Outlet_Type_Grocery Store</th>\n",
       "      <th>Outlet_Type_Supermarket Type1</th>\n",
       "      <th>Outlet_Type_Supermarket Type2</th>\n",
       "      <th>Outlet_Type_Supermarket Type3</th>\n",
       "      <th>Item_code_DR</th>\n",
       "      <th>Item_code_FD</th>\n",
       "      <th>Item_code_NC</th>\n",
       "    </tr>\n",
       "  </thead>\n",
       "  <tbody>\n",
       "    <tr>\n",
       "      <th>0</th>\n",
       "      <td>20.750000</td>\n",
       "      <td>0.007565</td>\n",
       "      <td>107.8622</td>\n",
       "      <td>23</td>\n",
       "      <td>test</td>\n",
       "      <td>True</td>\n",
       "      <td>False</td>\n",
       "      <td>False</td>\n",
       "      <td>False</td>\n",
       "      <td>False</td>\n",
       "      <td>...</td>\n",
       "      <td>True</td>\n",
       "      <td>False</td>\n",
       "      <td>False</td>\n",
       "      <td>False</td>\n",
       "      <td>True</td>\n",
       "      <td>False</td>\n",
       "      <td>False</td>\n",
       "      <td>False</td>\n",
       "      <td>True</td>\n",
       "      <td>False</td>\n",
       "    </tr>\n",
       "    <tr>\n",
       "      <th>1</th>\n",
       "      <td>8.300000</td>\n",
       "      <td>0.038428</td>\n",
       "      <td>87.3198</td>\n",
       "      <td>15</td>\n",
       "      <td>test</td>\n",
       "      <td>False</td>\n",
       "      <td>True</td>\n",
       "      <td>False</td>\n",
       "      <td>False</td>\n",
       "      <td>False</td>\n",
       "      <td>...</td>\n",
       "      <td>False</td>\n",
       "      <td>True</td>\n",
       "      <td>False</td>\n",
       "      <td>False</td>\n",
       "      <td>True</td>\n",
       "      <td>False</td>\n",
       "      <td>False</td>\n",
       "      <td>False</td>\n",
       "      <td>True</td>\n",
       "      <td>False</td>\n",
       "    </tr>\n",
       "    <tr>\n",
       "      <th>2</th>\n",
       "      <td>14.600000</td>\n",
       "      <td>0.099575</td>\n",
       "      <td>241.7538</td>\n",
       "      <td>24</td>\n",
       "      <td>test</td>\n",
       "      <td>True</td>\n",
       "      <td>False</td>\n",
       "      <td>False</td>\n",
       "      <td>False</td>\n",
       "      <td>False</td>\n",
       "      <td>...</td>\n",
       "      <td>False</td>\n",
       "      <td>False</td>\n",
       "      <td>True</td>\n",
       "      <td>True</td>\n",
       "      <td>False</td>\n",
       "      <td>False</td>\n",
       "      <td>False</td>\n",
       "      <td>False</td>\n",
       "      <td>False</td>\n",
       "      <td>True</td>\n",
       "    </tr>\n",
       "    <tr>\n",
       "      <th>3</th>\n",
       "      <td>7.315000</td>\n",
       "      <td>0.015388</td>\n",
       "      <td>155.0340</td>\n",
       "      <td>15</td>\n",
       "      <td>test</td>\n",
       "      <td>True</td>\n",
       "      <td>False</td>\n",
       "      <td>False</td>\n",
       "      <td>False</td>\n",
       "      <td>False</td>\n",
       "      <td>...</td>\n",
       "      <td>False</td>\n",
       "      <td>True</td>\n",
       "      <td>False</td>\n",
       "      <td>False</td>\n",
       "      <td>True</td>\n",
       "      <td>False</td>\n",
       "      <td>False</td>\n",
       "      <td>False</td>\n",
       "      <td>True</td>\n",
       "      <td>False</td>\n",
       "    </tr>\n",
       "    <tr>\n",
       "      <th>4</th>\n",
       "      <td>12.792854</td>\n",
       "      <td>0.118599</td>\n",
       "      <td>234.2300</td>\n",
       "      <td>37</td>\n",
       "      <td>test</td>\n",
       "      <td>False</td>\n",
       "      <td>True</td>\n",
       "      <td>False</td>\n",
       "      <td>False</td>\n",
       "      <td>False</td>\n",
       "      <td>...</td>\n",
       "      <td>False</td>\n",
       "      <td>False</td>\n",
       "      <td>True</td>\n",
       "      <td>False</td>\n",
       "      <td>False</td>\n",
       "      <td>False</td>\n",
       "      <td>True</td>\n",
       "      <td>False</td>\n",
       "      <td>True</td>\n",
       "      <td>False</td>\n",
       "    </tr>\n",
       "  </tbody>\n",
       "</table>\n",
       "<p>5 rows × 47 columns</p>\n",
       "</div>"
      ],
      "text/plain": [
       "   Item_Weight  Item_Visibility  Item_MRP  Outlet_Age Item_Outlet_Sales  \\\n",
       "0    20.750000         0.007565  107.8622          23              test   \n",
       "1     8.300000         0.038428   87.3198          15              test   \n",
       "2    14.600000         0.099575  241.7538          24              test   \n",
       "3     7.315000         0.015388  155.0340          15              test   \n",
       "4    12.792854         0.118599  234.2300          37              test   \n",
       "\n",
       "   Item_Fat_Content_Low Fat  Item_Fat_Content_Regular  Item_Type_Baking Goods  \\\n",
       "0                      True                     False                   False   \n",
       "1                     False                      True                   False   \n",
       "2                      True                     False                   False   \n",
       "3                      True                     False                   False   \n",
       "4                     False                      True                   False   \n",
       "\n",
       "   Item_Type_Breads  Item_Type_Breakfast  ...  Outlet_Location_Type_Tier 1  \\\n",
       "0             False                False  ...                         True   \n",
       "1             False                False  ...                        False   \n",
       "2             False                False  ...                        False   \n",
       "3             False                False  ...                        False   \n",
       "4             False                False  ...                        False   \n",
       "\n",
       "   Outlet_Location_Type_Tier 2  Outlet_Location_Type_Tier 3  \\\n",
       "0                        False                        False   \n",
       "1                         True                        False   \n",
       "2                        False                         True   \n",
       "3                         True                        False   \n",
       "4                        False                         True   \n",
       "\n",
       "   Outlet_Type_Grocery Store  Outlet_Type_Supermarket Type1  \\\n",
       "0                      False                           True   \n",
       "1                      False                           True   \n",
       "2                       True                          False   \n",
       "3                      False                           True   \n",
       "4                      False                          False   \n",
       "\n",
       "   Outlet_Type_Supermarket Type2  Outlet_Type_Supermarket Type3  Item_code_DR  \\\n",
       "0                          False                          False         False   \n",
       "1                          False                          False         False   \n",
       "2                          False                          False         False   \n",
       "3                          False                          False         False   \n",
       "4                          False                           True         False   \n",
       "\n",
       "   Item_code_FD  Item_code_NC  \n",
       "0          True         False  \n",
       "1          True         False  \n",
       "2         False          True  \n",
       "3          True         False  \n",
       "4          True         False  \n",
       "\n",
       "[5 rows x 47 columns]"
      ]
     },
     "execution_count": 66,
     "metadata": {},
     "output_type": "execute_result"
    }
   ],
   "source": [
    "salestest_df.head()"
   ]
  },
  {
   "cell_type": "code",
   "execution_count": 67,
   "id": "d00aa348",
   "metadata": {},
   "outputs": [
    {
     "name": "stdout",
     "output_type": "stream",
     "text": [
      "<class 'pandas.core.frame.DataFrame'>\n",
      "Index: 8523 entries, 0 to 8522\n",
      "Data columns (total 47 columns):\n",
      " #   Column                           Non-Null Count  Dtype  \n",
      "---  ------                           --------------  -----  \n",
      " 0   Item_Weight                      8523 non-null   float64\n",
      " 1   Item_Visibility                  8523 non-null   float64\n",
      " 2   Item_MRP                         8523 non-null   float64\n",
      " 3   Outlet_Age                       8523 non-null   int64  \n",
      " 4   Item_Outlet_Sales                8523 non-null   object \n",
      " 5   Item_Fat_Content_Low Fat         8523 non-null   bool   \n",
      " 6   Item_Fat_Content_Regular         8523 non-null   bool   \n",
      " 7   Item_Type_Baking Goods           8523 non-null   bool   \n",
      " 8   Item_Type_Breads                 8523 non-null   bool   \n",
      " 9   Item_Type_Breakfast              8523 non-null   bool   \n",
      " 10  Item_Type_Canned                 8523 non-null   bool   \n",
      " 11  Item_Type_Dairy                  8523 non-null   bool   \n",
      " 12  Item_Type_Frozen Foods           8523 non-null   bool   \n",
      " 13  Item_Type_Fruits and Vegetables  8523 non-null   bool   \n",
      " 14  Item_Type_Hard Drinks            8523 non-null   bool   \n",
      " 15  Item_Type_Health and Hygiene     8523 non-null   bool   \n",
      " 16  Item_Type_Household              8523 non-null   bool   \n",
      " 17  Item_Type_Meat                   8523 non-null   bool   \n",
      " 18  Item_Type_Others                 8523 non-null   bool   \n",
      " 19  Item_Type_Seafood                8523 non-null   bool   \n",
      " 20  Item_Type_Snack Foods            8523 non-null   bool   \n",
      " 21  Item_Type_Soft Drinks            8523 non-null   bool   \n",
      " 22  Item_Type_Starchy Foods          8523 non-null   bool   \n",
      " 23  Outlet_Identifier_OUT010         8523 non-null   bool   \n",
      " 24  Outlet_Identifier_OUT013         8523 non-null   bool   \n",
      " 25  Outlet_Identifier_OUT017         8523 non-null   bool   \n",
      " 26  Outlet_Identifier_OUT018         8523 non-null   bool   \n",
      " 27  Outlet_Identifier_OUT019         8523 non-null   bool   \n",
      " 28  Outlet_Identifier_OUT027         8523 non-null   bool   \n",
      " 29  Outlet_Identifier_OUT035         8523 non-null   bool   \n",
      " 30  Outlet_Identifier_OUT045         8523 non-null   bool   \n",
      " 31  Outlet_Identifier_OUT046         8523 non-null   bool   \n",
      " 32  Outlet_Identifier_OUT049         8523 non-null   bool   \n",
      " 33  Outlet_Size_High                 8523 non-null   bool   \n",
      " 34  Outlet_Size_Medium               8523 non-null   bool   \n",
      " 35  Outlet_Size_Missing              8523 non-null   bool   \n",
      " 36  Outlet_Size_Small                8523 non-null   bool   \n",
      " 37  Outlet_Location_Type_Tier 1      8523 non-null   bool   \n",
      " 38  Outlet_Location_Type_Tier 2      8523 non-null   bool   \n",
      " 39  Outlet_Location_Type_Tier 3      8523 non-null   bool   \n",
      " 40  Outlet_Type_Grocery Store        8523 non-null   bool   \n",
      " 41  Outlet_Type_Supermarket Type1    8523 non-null   bool   \n",
      " 42  Outlet_Type_Supermarket Type2    8523 non-null   bool   \n",
      " 43  Outlet_Type_Supermarket Type3    8523 non-null   bool   \n",
      " 44  Item_code_DR                     8523 non-null   bool   \n",
      " 45  Item_code_FD                     8523 non-null   bool   \n",
      " 46  Item_code_NC                     8523 non-null   bool   \n",
      "dtypes: bool(42), float64(3), int64(1), object(1)\n",
      "memory usage: 749.1+ KB\n"
     ]
    }
   ],
   "source": [
    "salestrain_df.info()"
   ]
  },
  {
   "cell_type": "code",
   "execution_count": 68,
   "id": "d3685988",
   "metadata": {},
   "outputs": [
    {
     "name": "stdout",
     "output_type": "stream",
     "text": [
      "<class 'pandas.core.frame.DataFrame'>\n",
      "Index: 5681 entries, 0 to 5680\n",
      "Data columns (total 47 columns):\n",
      " #   Column                           Non-Null Count  Dtype  \n",
      "---  ------                           --------------  -----  \n",
      " 0   Item_Weight                      5681 non-null   float64\n",
      " 1   Item_Visibility                  5681 non-null   float64\n",
      " 2   Item_MRP                         5681 non-null   float64\n",
      " 3   Outlet_Age                       5681 non-null   int64  \n",
      " 4   Item_Outlet_Sales                5681 non-null   object \n",
      " 5   Item_Fat_Content_Low Fat         5681 non-null   bool   \n",
      " 6   Item_Fat_Content_Regular         5681 non-null   bool   \n",
      " 7   Item_Type_Baking Goods           5681 non-null   bool   \n",
      " 8   Item_Type_Breads                 5681 non-null   bool   \n",
      " 9   Item_Type_Breakfast              5681 non-null   bool   \n",
      " 10  Item_Type_Canned                 5681 non-null   bool   \n",
      " 11  Item_Type_Dairy                  5681 non-null   bool   \n",
      " 12  Item_Type_Frozen Foods           5681 non-null   bool   \n",
      " 13  Item_Type_Fruits and Vegetables  5681 non-null   bool   \n",
      " 14  Item_Type_Hard Drinks            5681 non-null   bool   \n",
      " 15  Item_Type_Health and Hygiene     5681 non-null   bool   \n",
      " 16  Item_Type_Household              5681 non-null   bool   \n",
      " 17  Item_Type_Meat                   5681 non-null   bool   \n",
      " 18  Item_Type_Others                 5681 non-null   bool   \n",
      " 19  Item_Type_Seafood                5681 non-null   bool   \n",
      " 20  Item_Type_Snack Foods            5681 non-null   bool   \n",
      " 21  Item_Type_Soft Drinks            5681 non-null   bool   \n",
      " 22  Item_Type_Starchy Foods          5681 non-null   bool   \n",
      " 23  Outlet_Identifier_OUT010         5681 non-null   bool   \n",
      " 24  Outlet_Identifier_OUT013         5681 non-null   bool   \n",
      " 25  Outlet_Identifier_OUT017         5681 non-null   bool   \n",
      " 26  Outlet_Identifier_OUT018         5681 non-null   bool   \n",
      " 27  Outlet_Identifier_OUT019         5681 non-null   bool   \n",
      " 28  Outlet_Identifier_OUT027         5681 non-null   bool   \n",
      " 29  Outlet_Identifier_OUT035         5681 non-null   bool   \n",
      " 30  Outlet_Identifier_OUT045         5681 non-null   bool   \n",
      " 31  Outlet_Identifier_OUT046         5681 non-null   bool   \n",
      " 32  Outlet_Identifier_OUT049         5681 non-null   bool   \n",
      " 33  Outlet_Size_High                 5681 non-null   bool   \n",
      " 34  Outlet_Size_Medium               5681 non-null   bool   \n",
      " 35  Outlet_Size_Missing              5681 non-null   bool   \n",
      " 36  Outlet_Size_Small                5681 non-null   bool   \n",
      " 37  Outlet_Location_Type_Tier 1      5681 non-null   bool   \n",
      " 38  Outlet_Location_Type_Tier 2      5681 non-null   bool   \n",
      " 39  Outlet_Location_Type_Tier 3      5681 non-null   bool   \n",
      " 40  Outlet_Type_Grocery Store        5681 non-null   bool   \n",
      " 41  Outlet_Type_Supermarket Type1    5681 non-null   bool   \n",
      " 42  Outlet_Type_Supermarket Type2    5681 non-null   bool   \n",
      " 43  Outlet_Type_Supermarket Type3    5681 non-null   bool   \n",
      " 44  Item_code_DR                     5681 non-null   bool   \n",
      " 45  Item_code_FD                     5681 non-null   bool   \n",
      " 46  Item_code_NC                     5681 non-null   bool   \n",
      "dtypes: bool(42), float64(3), int64(1), object(1)\n",
      "memory usage: 499.3+ KB\n"
     ]
    }
   ],
   "source": [
    "salestest_df.info()"
   ]
  },
  {
   "cell_type": "code",
   "execution_count": 69,
   "id": "e3a44bbb",
   "metadata": {},
   "outputs": [],
   "source": [
    "#Delete Item_Outlet_sales from salestest_df\n",
    "salestest_df=salestest_df.drop('Item_Outlet_Sales',axis=1)"
   ]
  },
  {
   "cell_type": "code",
   "execution_count": 70,
   "id": "09d9d119",
   "metadata": {},
   "outputs": [
    {
     "name": "stdout",
     "output_type": "stream",
     "text": [
      "<class 'pandas.core.frame.DataFrame'>\n",
      "Index: 5681 entries, 0 to 5680\n",
      "Data columns (total 46 columns):\n",
      " #   Column                           Non-Null Count  Dtype  \n",
      "---  ------                           --------------  -----  \n",
      " 0   Item_Weight                      5681 non-null   float64\n",
      " 1   Item_Visibility                  5681 non-null   float64\n",
      " 2   Item_MRP                         5681 non-null   float64\n",
      " 3   Outlet_Age                       5681 non-null   int64  \n",
      " 4   Item_Fat_Content_Low Fat         5681 non-null   bool   \n",
      " 5   Item_Fat_Content_Regular         5681 non-null   bool   \n",
      " 6   Item_Type_Baking Goods           5681 non-null   bool   \n",
      " 7   Item_Type_Breads                 5681 non-null   bool   \n",
      " 8   Item_Type_Breakfast              5681 non-null   bool   \n",
      " 9   Item_Type_Canned                 5681 non-null   bool   \n",
      " 10  Item_Type_Dairy                  5681 non-null   bool   \n",
      " 11  Item_Type_Frozen Foods           5681 non-null   bool   \n",
      " 12  Item_Type_Fruits and Vegetables  5681 non-null   bool   \n",
      " 13  Item_Type_Hard Drinks            5681 non-null   bool   \n",
      " 14  Item_Type_Health and Hygiene     5681 non-null   bool   \n",
      " 15  Item_Type_Household              5681 non-null   bool   \n",
      " 16  Item_Type_Meat                   5681 non-null   bool   \n",
      " 17  Item_Type_Others                 5681 non-null   bool   \n",
      " 18  Item_Type_Seafood                5681 non-null   bool   \n",
      " 19  Item_Type_Snack Foods            5681 non-null   bool   \n",
      " 20  Item_Type_Soft Drinks            5681 non-null   bool   \n",
      " 21  Item_Type_Starchy Foods          5681 non-null   bool   \n",
      " 22  Outlet_Identifier_OUT010         5681 non-null   bool   \n",
      " 23  Outlet_Identifier_OUT013         5681 non-null   bool   \n",
      " 24  Outlet_Identifier_OUT017         5681 non-null   bool   \n",
      " 25  Outlet_Identifier_OUT018         5681 non-null   bool   \n",
      " 26  Outlet_Identifier_OUT019         5681 non-null   bool   \n",
      " 27  Outlet_Identifier_OUT027         5681 non-null   bool   \n",
      " 28  Outlet_Identifier_OUT035         5681 non-null   bool   \n",
      " 29  Outlet_Identifier_OUT045         5681 non-null   bool   \n",
      " 30  Outlet_Identifier_OUT046         5681 non-null   bool   \n",
      " 31  Outlet_Identifier_OUT049         5681 non-null   bool   \n",
      " 32  Outlet_Size_High                 5681 non-null   bool   \n",
      " 33  Outlet_Size_Medium               5681 non-null   bool   \n",
      " 34  Outlet_Size_Missing              5681 non-null   bool   \n",
      " 35  Outlet_Size_Small                5681 non-null   bool   \n",
      " 36  Outlet_Location_Type_Tier 1      5681 non-null   bool   \n",
      " 37  Outlet_Location_Type_Tier 2      5681 non-null   bool   \n",
      " 38  Outlet_Location_Type_Tier 3      5681 non-null   bool   \n",
      " 39  Outlet_Type_Grocery Store        5681 non-null   bool   \n",
      " 40  Outlet_Type_Supermarket Type1    5681 non-null   bool   \n",
      " 41  Outlet_Type_Supermarket Type2    5681 non-null   bool   \n",
      " 42  Outlet_Type_Supermarket Type3    5681 non-null   bool   \n",
      " 43  Item_code_DR                     5681 non-null   bool   \n",
      " 44  Item_code_FD                     5681 non-null   bool   \n",
      " 45  Item_code_NC                     5681 non-null   bool   \n",
      "dtypes: bool(42), float64(3), int64(1)\n",
      "memory usage: 454.9 KB\n"
     ]
    }
   ],
   "source": [
    "salestest_df.info()"
   ]
  },
  {
   "cell_type": "code",
   "execution_count": 71,
   "id": "ab2cd6e3",
   "metadata": {},
   "outputs": [
    {
     "name": "stderr",
     "output_type": "stream",
     "text": [
      "C:\\Users\\Eswar Aditya\\AppData\\Local\\Temp\\ipykernel_20164\\560551408.py:1: SettingWithCopyWarning: \n",
      "A value is trying to be set on a copy of a slice from a DataFrame.\n",
      "Try using .loc[row_indexer,col_indexer] = value instead\n",
      "\n",
      "See the caveats in the documentation: https://pandas.pydata.org/pandas-docs/stable/user_guide/indexing.html#returning-a-view-versus-a-copy\n",
      "  salestrain_df.Item_Outlet_Sales=salestrain_df.Item_Outlet_Sales.astype('float64')\n"
     ]
    }
   ],
   "source": [
    "salestrain_df.Item_Outlet_Sales=salestrain_df.Item_Outlet_Sales.astype('float64')"
   ]
  },
  {
   "cell_type": "code",
   "execution_count": 72,
   "id": "8c5139f8",
   "metadata": {},
   "outputs": [
    {
     "data": {
      "text/plain": [
       "count     8523.000000\n",
       "mean      2181.288914\n",
       "std       1706.499616\n",
       "min         33.290000\n",
       "25%        834.247400\n",
       "50%       1794.331000\n",
       "75%       3101.296400\n",
       "max      13086.964800\n",
       "Name: Item_Outlet_Sales, dtype: float64"
      ]
     },
     "execution_count": 72,
     "metadata": {},
     "output_type": "execute_result"
    }
   ],
   "source": [
    "salestrain_df.Item_Outlet_Sales.describe()"
   ]
  },
  {
   "cell_type": "code",
   "execution_count": 73,
   "id": "0f479132",
   "metadata": {},
   "outputs": [
    {
     "data": {
      "text/plain": [
       "<Axes: ylabel='Density'>"
      ]
     },
     "execution_count": 73,
     "metadata": {},
     "output_type": "execute_result"
    },
    {
     "data": {
      "text/plain": [
       "<Figure size 3000x1500 with 0 Axes>"
      ]
     },
     "metadata": {},
     "output_type": "display_data"
    },
    {
     "data": {
      "image/png": "[encoded data removed]",
      "text/plain": [
       "<Figure size 640x480 with 3 Axes>"
      ]
     },
     "metadata": {},
     "output_type": "display_data"
    }
   ],
   "source": [
    "#hitogram,Boxplot,and density curve\n",
    "plt.figure(figsize=(30,15))\n",
    "fig,ax=plt.subplots(3,1)\n",
    "salestrain_df.Item_Outlet_Sales.plot(kind='hist',ax=ax[0])\n",
    "salestrain_df.Item_Outlet_Sales.plot(kind='box',vert=False,ax=ax[1])\n",
    "salestrain_df.Item_Outlet_Sales.plot(kind='kde',ax=ax[2])"
   ]
  },
  {
   "cell_type": "code",
   "execution_count": 74,
   "id": "e999de91",
   "metadata": {},
   "outputs": [
    {
     "data": {
      "text/plain": [
       "<Axes: ylabel='Frequency'>"
      ]
     },
     "execution_count": 74,
     "metadata": {},
     "output_type": "execute_result"
    },
    {
     "data": {
      "image/png": "[encoded data removed]",
      "text/plain": [
       "<Figure size 640x480 with 1 Axes>"
      ]
     },
     "metadata": {},
     "output_type": "display_data"
    }
   ],
   "source": [
    "salestrain_df.Item_Outlet_Sales.plot(kind='hist')"
   ]
  },
  {
   "cell_type": "code",
   "execution_count": 75,
   "id": "32b49800",
   "metadata": {},
   "outputs": [
    {
     "data": {
      "text/plain": [
       "<Axes: >"
      ]
     },
     "execution_count": 75,
     "metadata": {},
     "output_type": "execute_result"
    },
    {
     "data": {
      "image/png": "[encoded data removed]",
      "text/plain": [
       "<Figure size 640x480 with 1 Axes>"
      ]
     },
     "metadata": {},
     "output_type": "display_data"
    }
   ],
   "source": [
    "salestrain_df.Item_Outlet_Sales.plot(kind='box',vert=False)"
   ]
  },
  {
   "cell_type": "code",
   "execution_count": 76,
   "id": "6f249a9d",
   "metadata": {},
   "outputs": [
    {
     "data": {
      "text/plain": [
       "<Axes: ylabel='Density'>"
      ]
     },
     "execution_count": 76,
     "metadata": {},
     "output_type": "execute_result"
    },
    {
     "data": {
      "image/png": "[encoded data removed]",
      "text/plain": [
       "<Figure size 640x480 with 1 Axes>"
      ]
     },
     "metadata": {},
     "output_type": "display_data"
    }
   ],
   "source": [
    "salestrain_df.Item_Outlet_Sales.plot(kind='density')"
   ]
  },
  {
   "cell_type": "code",
   "execution_count": 77,
   "id": "66731402",
   "metadata": {},
   "outputs": [
    {
     "data": {
      "text/plain": [
       "<Axes: >"
      ]
     },
     "execution_count": 77,
     "metadata": {},
     "output_type": "execute_result"
    },
    {
     "data": {
      "image/png": "[encoded data removed]",
      "text/plain": [
       "<Figure size 640x480 with 1 Axes>"
      ]
     },
     "metadata": {},
     "output_type": "display_data"
    }
   ],
   "source": [
    "np.log(salestrain_df.Item_Outlet_Sales).plot(kind='box',vert=False)"
   ]
  },
  {
   "cell_type": "code",
   "execution_count": 78,
   "id": "0a2c400b",
   "metadata": {},
   "outputs": [],
   "source": [
    "#spliting data into 2 ways which having dependent and independent variables (split data into dependent variable(y) & independent variables(x's))\n",
    "y=salestrain_df.Item_Outlet_Sales\n",
    "x=salestrain_df.drop('Item_Outlet_Sales',axis=1)"
   ]
  },
  {
   "cell_type": "code",
   "execution_count": 79,
   "id": "45d89f86",
   "metadata": {},
   "outputs": [
    {
     "data": {
      "text/html": [
       "<div>\n",
       "<style scoped>\n",
       "    .dataframe tbody tr th:only-of-type {\n",
       "        vertical-align: middle;\n",
       "    }\n",
       "\n",
       "    .dataframe tbody tr th {\n",
       "        vertical-align: top;\n",
       "    }\n",
       "\n",
       "    .dataframe thead th {\n",
       "        text-align: right;\n",
       "    }\n",
       "</style>\n",
       "<table border=\"1\" class=\"dataframe\">\n",
       "  <thead>\n",
       "    <tr style=\"text-align: right;\">\n",
       "      <th></th>\n",
       "      <th>Item_Weight</th>\n",
       "      <th>Item_Visibility</th>\n",
       "      <th>Item_MRP</th>\n",
       "      <th>Outlet_Age</th>\n",
       "      <th>Item_Fat_Content_Low Fat</th>\n",
       "      <th>Item_Fat_Content_Regular</th>\n",
       "      <th>Item_Type_Baking Goods</th>\n",
       "      <th>Item_Type_Breads</th>\n",
       "      <th>Item_Type_Breakfast</th>\n",
       "      <th>Item_Type_Canned</th>\n",
       "      <th>...</th>\n",
       "      <th>Outlet_Location_Type_Tier 1</th>\n",
       "      <th>Outlet_Location_Type_Tier 2</th>\n",
       "      <th>Outlet_Location_Type_Tier 3</th>\n",
       "      <th>Outlet_Type_Grocery Store</th>\n",
       "      <th>Outlet_Type_Supermarket Type1</th>\n",
       "      <th>Outlet_Type_Supermarket Type2</th>\n",
       "      <th>Outlet_Type_Supermarket Type3</th>\n",
       "      <th>Item_code_DR</th>\n",
       "      <th>Item_code_FD</th>\n",
       "      <th>Item_code_NC</th>\n",
       "    </tr>\n",
       "  </thead>\n",
       "  <tbody>\n",
       "    <tr>\n",
       "      <th>0</th>\n",
       "      <td>9.300</td>\n",
       "      <td>0.016047</td>\n",
       "      <td>249.8092</td>\n",
       "      <td>23</td>\n",
       "      <td>True</td>\n",
       "      <td>False</td>\n",
       "      <td>False</td>\n",
       "      <td>False</td>\n",
       "      <td>False</td>\n",
       "      <td>False</td>\n",
       "      <td>...</td>\n",
       "      <td>True</td>\n",
       "      <td>False</td>\n",
       "      <td>False</td>\n",
       "      <td>False</td>\n",
       "      <td>True</td>\n",
       "      <td>False</td>\n",
       "      <td>False</td>\n",
       "      <td>False</td>\n",
       "      <td>True</td>\n",
       "      <td>False</td>\n",
       "    </tr>\n",
       "    <tr>\n",
       "      <th>1</th>\n",
       "      <td>5.920</td>\n",
       "      <td>0.019278</td>\n",
       "      <td>48.2692</td>\n",
       "      <td>13</td>\n",
       "      <td>False</td>\n",
       "      <td>True</td>\n",
       "      <td>False</td>\n",
       "      <td>False</td>\n",
       "      <td>False</td>\n",
       "      <td>False</td>\n",
       "      <td>...</td>\n",
       "      <td>False</td>\n",
       "      <td>False</td>\n",
       "      <td>True</td>\n",
       "      <td>False</td>\n",
       "      <td>False</td>\n",
       "      <td>True</td>\n",
       "      <td>False</td>\n",
       "      <td>True</td>\n",
       "      <td>False</td>\n",
       "      <td>False</td>\n",
       "    </tr>\n",
       "    <tr>\n",
       "      <th>2</th>\n",
       "      <td>17.500</td>\n",
       "      <td>0.016760</td>\n",
       "      <td>141.6180</td>\n",
       "      <td>23</td>\n",
       "      <td>True</td>\n",
       "      <td>False</td>\n",
       "      <td>False</td>\n",
       "      <td>False</td>\n",
       "      <td>False</td>\n",
       "      <td>False</td>\n",
       "      <td>...</td>\n",
       "      <td>True</td>\n",
       "      <td>False</td>\n",
       "      <td>False</td>\n",
       "      <td>False</td>\n",
       "      <td>True</td>\n",
       "      <td>False</td>\n",
       "      <td>False</td>\n",
       "      <td>False</td>\n",
       "      <td>True</td>\n",
       "      <td>False</td>\n",
       "    </tr>\n",
       "    <tr>\n",
       "      <th>3</th>\n",
       "      <td>19.200</td>\n",
       "      <td>0.000000</td>\n",
       "      <td>182.0950</td>\n",
       "      <td>24</td>\n",
       "      <td>False</td>\n",
       "      <td>True</td>\n",
       "      <td>False</td>\n",
       "      <td>False</td>\n",
       "      <td>False</td>\n",
       "      <td>False</td>\n",
       "      <td>...</td>\n",
       "      <td>False</td>\n",
       "      <td>False</td>\n",
       "      <td>True</td>\n",
       "      <td>True</td>\n",
       "      <td>False</td>\n",
       "      <td>False</td>\n",
       "      <td>False</td>\n",
       "      <td>False</td>\n",
       "      <td>True</td>\n",
       "      <td>False</td>\n",
       "    </tr>\n",
       "    <tr>\n",
       "      <th>4</th>\n",
       "      <td>8.930</td>\n",
       "      <td>0.000000</td>\n",
       "      <td>53.8614</td>\n",
       "      <td>35</td>\n",
       "      <td>True</td>\n",
       "      <td>False</td>\n",
       "      <td>False</td>\n",
       "      <td>False</td>\n",
       "      <td>False</td>\n",
       "      <td>False</td>\n",
       "      <td>...</td>\n",
       "      <td>False</td>\n",
       "      <td>False</td>\n",
       "      <td>True</td>\n",
       "      <td>False</td>\n",
       "      <td>True</td>\n",
       "      <td>False</td>\n",
       "      <td>False</td>\n",
       "      <td>False</td>\n",
       "      <td>False</td>\n",
       "      <td>True</td>\n",
       "    </tr>\n",
       "    <tr>\n",
       "      <th>...</th>\n",
       "      <td>...</td>\n",
       "      <td>...</td>\n",
       "      <td>...</td>\n",
       "      <td>...</td>\n",
       "      <td>...</td>\n",
       "      <td>...</td>\n",
       "      <td>...</td>\n",
       "      <td>...</td>\n",
       "      <td>...</td>\n",
       "      <td>...</td>\n",
       "      <td>...</td>\n",
       "      <td>...</td>\n",
       "      <td>...</td>\n",
       "      <td>...</td>\n",
       "      <td>...</td>\n",
       "      <td>...</td>\n",
       "      <td>...</td>\n",
       "      <td>...</td>\n",
       "      <td>...</td>\n",
       "      <td>...</td>\n",
       "      <td>...</td>\n",
       "    </tr>\n",
       "    <tr>\n",
       "      <th>8518</th>\n",
       "      <td>6.865</td>\n",
       "      <td>0.056783</td>\n",
       "      <td>214.5218</td>\n",
       "      <td>35</td>\n",
       "      <td>True</td>\n",
       "      <td>False</td>\n",
       "      <td>False</td>\n",
       "      <td>False</td>\n",
       "      <td>False</td>\n",
       "      <td>False</td>\n",
       "      <td>...</td>\n",
       "      <td>False</td>\n",
       "      <td>False</td>\n",
       "      <td>True</td>\n",
       "      <td>False</td>\n",
       "      <td>True</td>\n",
       "      <td>False</td>\n",
       "      <td>False</td>\n",
       "      <td>False</td>\n",
       "      <td>True</td>\n",
       "      <td>False</td>\n",
       "    </tr>\n",
       "    <tr>\n",
       "      <th>8519</th>\n",
       "      <td>8.380</td>\n",
       "      <td>0.046982</td>\n",
       "      <td>108.1570</td>\n",
       "      <td>20</td>\n",
       "      <td>False</td>\n",
       "      <td>True</td>\n",
       "      <td>True</td>\n",
       "      <td>False</td>\n",
       "      <td>False</td>\n",
       "      <td>False</td>\n",
       "      <td>...</td>\n",
       "      <td>False</td>\n",
       "      <td>True</td>\n",
       "      <td>False</td>\n",
       "      <td>False</td>\n",
       "      <td>True</td>\n",
       "      <td>False</td>\n",
       "      <td>False</td>\n",
       "      <td>False</td>\n",
       "      <td>True</td>\n",
       "      <td>False</td>\n",
       "    </tr>\n",
       "    <tr>\n",
       "      <th>8520</th>\n",
       "      <td>10.600</td>\n",
       "      <td>0.035186</td>\n",
       "      <td>85.1224</td>\n",
       "      <td>18</td>\n",
       "      <td>True</td>\n",
       "      <td>False</td>\n",
       "      <td>False</td>\n",
       "      <td>False</td>\n",
       "      <td>False</td>\n",
       "      <td>False</td>\n",
       "      <td>...</td>\n",
       "      <td>False</td>\n",
       "      <td>True</td>\n",
       "      <td>False</td>\n",
       "      <td>False</td>\n",
       "      <td>True</td>\n",
       "      <td>False</td>\n",
       "      <td>False</td>\n",
       "      <td>False</td>\n",
       "      <td>False</td>\n",
       "      <td>True</td>\n",
       "    </tr>\n",
       "    <tr>\n",
       "      <th>8521</th>\n",
       "      <td>7.210</td>\n",
       "      <td>0.145221</td>\n",
       "      <td>103.1332</td>\n",
       "      <td>13</td>\n",
       "      <td>False</td>\n",
       "      <td>True</td>\n",
       "      <td>False</td>\n",
       "      <td>False</td>\n",
       "      <td>False</td>\n",
       "      <td>False</td>\n",
       "      <td>...</td>\n",
       "      <td>False</td>\n",
       "      <td>False</td>\n",
       "      <td>True</td>\n",
       "      <td>False</td>\n",
       "      <td>False</td>\n",
       "      <td>True</td>\n",
       "      <td>False</td>\n",
       "      <td>False</td>\n",
       "      <td>True</td>\n",
       "      <td>False</td>\n",
       "    </tr>\n",
       "    <tr>\n",
       "      <th>8522</th>\n",
       "      <td>14.800</td>\n",
       "      <td>0.044878</td>\n",
       "      <td>75.4670</td>\n",
       "      <td>25</td>\n",
       "      <td>True</td>\n",
       "      <td>False</td>\n",
       "      <td>False</td>\n",
       "      <td>False</td>\n",
       "      <td>False</td>\n",
       "      <td>False</td>\n",
       "      <td>...</td>\n",
       "      <td>True</td>\n",
       "      <td>False</td>\n",
       "      <td>False</td>\n",
       "      <td>False</td>\n",
       "      <td>True</td>\n",
       "      <td>False</td>\n",
       "      <td>False</td>\n",
       "      <td>True</td>\n",
       "      <td>False</td>\n",
       "      <td>False</td>\n",
       "    </tr>\n",
       "  </tbody>\n",
       "</table>\n",
       "<p>8523 rows × 46 columns</p>\n",
       "</div>"
      ],
      "text/plain": [
       "      Item_Weight  Item_Visibility  Item_MRP  Outlet_Age  \\\n",
       "0           9.300         0.016047  249.8092          23   \n",
       "1           5.920         0.019278   48.2692          13   \n",
       "2          17.500         0.016760  141.6180          23   \n",
       "3          19.200         0.000000  182.0950          24   \n",
       "4           8.930         0.000000   53.8614          35   \n",
       "...           ...              ...       ...         ...   \n",
       "8518        6.865         0.056783  214.5218          35   \n",
       "8519        8.380         0.046982  108.1570          20   \n",
       "8520       10.600         0.035186   85.1224          18   \n",
       "8521        7.210         0.145221  103.1332          13   \n",
       "8522       14.800         0.044878   75.4670          25   \n",
       "\n",
       "      Item_Fat_Content_Low Fat  Item_Fat_Content_Regular  \\\n",
       "0                         True                     False   \n",
       "1                        False                      True   \n",
       "2                         True                     False   \n",
       "3                        False                      True   \n",
       "4                         True                     False   \n",
       "...                        ...                       ...   \n",
       "8518                      True                     False   \n",
       "8519                     False                      True   \n",
       "8520                      True                     False   \n",
       "8521                     False                      True   \n",
       "8522                      True                     False   \n",
       "\n",
       "      Item_Type_Baking Goods  Item_Type_Breads  Item_Type_Breakfast  \\\n",
       "0                      False             False                False   \n",
       "1                      False             False                False   \n",
       "2                      False             False                False   \n",
       "3                      False             False                False   \n",
       "4                      False             False                False   \n",
       "...                      ...               ...                  ...   \n",
       "8518                   False             False                False   \n",
       "8519                    True             False                False   \n",
       "8520                   False             False                False   \n",
       "8521                   False             False                False   \n",
       "8522                   False             False                False   \n",
       "\n",
       "      Item_Type_Canned  ...  Outlet_Location_Type_Tier 1  \\\n",
       "0                False  ...                         True   \n",
       "1                False  ...                        False   \n",
       "2                False  ...                         True   \n",
       "3                False  ...                        False   \n",
       "4                False  ...                        False   \n",
       "...                ...  ...                          ...   \n",
       "8518             False  ...                        False   \n",
       "8519             False  ...                        False   \n",
       "8520             False  ...                        False   \n",
       "8521             False  ...                        False   \n",
       "8522             False  ...                         True   \n",
       "\n",
       "      Outlet_Location_Type_Tier 2  Outlet_Location_Type_Tier 3  \\\n",
       "0                           False                        False   \n",
       "1                           False                         True   \n",
       "2                           False                        False   \n",
       "3                           False                         True   \n",
       "4                           False                         True   \n",
       "...                           ...                          ...   \n",
       "8518                        False                         True   \n",
       "8519                         True                        False   \n",
       "8520                         True                        False   \n",
       "8521                        False                         True   \n",
       "8522                        False                        False   \n",
       "\n",
       "      Outlet_Type_Grocery Store  Outlet_Type_Supermarket Type1  \\\n",
       "0                         False                           True   \n",
       "1                         False                          False   \n",
       "2                         False                           True   \n",
       "3                          True                          False   \n",
       "4                         False                           True   \n",
       "...                         ...                            ...   \n",
       "8518                      False                           True   \n",
       "8519                      False                           True   \n",
       "8520                      False                           True   \n",
       "8521                      False                          False   \n",
       "8522                      False                           True   \n",
       "\n",
       "      Outlet_Type_Supermarket Type2  Outlet_Type_Supermarket Type3  \\\n",
       "0                             False                          False   \n",
       "1                              True                          False   \n",
       "2                             False                          False   \n",
       "3                             False                          False   \n",
       "4                             False                          False   \n",
       "...                             ...                            ...   \n",
       "8518                          False                          False   \n",
       "8519                          False                          False   \n",
       "8520                          False                          False   \n",
       "8521                           True                          False   \n",
       "8522                          False                          False   \n",
       "\n",
       "      Item_code_DR  Item_code_FD  Item_code_NC  \n",
       "0            False          True         False  \n",
       "1             True         False         False  \n",
       "2            False          True         False  \n",
       "3            False          True         False  \n",
       "4            False         False          True  \n",
       "...            ...           ...           ...  \n",
       "8518         False          True         False  \n",
       "8519         False          True         False  \n",
       "8520         False         False          True  \n",
       "8521         False          True         False  \n",
       "8522          True         False         False  \n",
       "\n",
       "[8523 rows x 46 columns]"
      ]
     },
     "execution_count": 79,
     "metadata": {},
     "output_type": "execute_result"
    }
   ],
   "source": [
    "x"
   ]
  },
  {
   "cell_type": "markdown",
   "id": "ec791d2f",
   "metadata": {},
   "source": [
    "# Linear Regression"
   ]
  },
  {
   "cell_type": "code",
   "execution_count": 80,
   "id": "99addd89",
   "metadata": {},
   "outputs": [],
   "source": [
    "#y=y.astype('float64')"
   ]
  },
  {
   "cell_type": "code",
   "execution_count": 81,
   "id": "5932c322",
   "metadata": {},
   "outputs": [],
   "source": [
    "from sklearn.linear_model import LinearRegression"
   ]
  },
  {
   "cell_type": "code",
   "execution_count": 82,
   "id": "879dac78",
   "metadata": {},
   "outputs": [],
   "source": [
    "reg=LinearRegression()"
   ]
  },
  {
   "cell_type": "code",
   "execution_count": 83,
   "id": "b7d6dcbe",
   "metadata": {},
   "outputs": [],
   "source": [
    "regmodel=reg.fit(x,y)"
   ]
  },
  {
   "cell_type": "code",
   "execution_count": 84,
   "id": "2216e5c1",
   "metadata": {},
   "outputs": [
    {
     "data": {
      "text/plain": [
       "0.5637737001510252"
      ]
     },
     "execution_count": 84,
     "metadata": {},
     "output_type": "execute_result"
    }
   ],
   "source": [
    "regmodel.score(x,y)"
   ]
  },
  {
   "cell_type": "code",
   "execution_count": 85,
   "id": "927c080d",
   "metadata": {},
   "outputs": [],
   "source": [
    "regtestpredict=regmodel.predict(salestest_df)"
   ]
  },
  {
   "cell_type": "code",
   "execution_count": 116,
   "id": "2c3f8028",
   "metadata": {},
   "outputs": [],
   "source": [
    "regpredict=regmodel.predict(x)"
   ]
  },
  {
   "cell_type": "code",
   "execution_count": 117,
   "id": "1aeb3ec7",
   "metadata": {},
   "outputs": [],
   "source": [
    "rigresid=y-regpredict"
   ]
  },
  {
   "cell_type": "code",
   "execution_count": 118,
   "id": "21969992",
   "metadata": {},
   "outputs": [
    {
     "data": {
      "text/plain": [
       "1127.0330147429927"
      ]
     },
     "execution_count": 118,
     "metadata": {},
     "output_type": "execute_result"
    }
   ],
   "source": [
    "np.sqrt(np.mean(rigresid**2))"
   ]
  },
  {
   "cell_type": "code",
   "execution_count": null,
   "id": "89e0a52d",
   "metadata": {},
   "outputs": [],
   "source": []
  },
  {
   "cell_type": "code",
   "execution_count": 86,
   "id": "3d0c08a3",
   "metadata": {},
   "outputs": [],
   "source": [
    "#pd.DataFrame(regtestpredict).to_csv('reg.csv')"
   ]
  },
  {
   "cell_type": "code",
   "execution_count": null,
   "id": "c2445521",
   "metadata": {},
   "outputs": [],
   "source": []
  },
  {
   "cell_type": "markdown",
   "id": "a0363a74",
   "metadata": {},
   "source": [
    "# Decession Tree"
   ]
  },
  {
   "cell_type": "code",
   "execution_count": 87,
   "id": "17785636",
   "metadata": {},
   "outputs": [],
   "source": [
    "from sklearn.tree import DecisionTreeRegressor"
   ]
  },
  {
   "cell_type": "code",
   "execution_count": 260,
   "id": "fc97392a",
   "metadata": {},
   "outputs": [],
   "source": [
    "tree=DecisionTreeRegressor(max_depth=8)"
   ]
  },
  {
   "cell_type": "code",
   "execution_count": 261,
   "id": "6c094003",
   "metadata": {},
   "outputs": [],
   "source": [
    "treemodel=tree.fit(x,y)"
   ]
  },
  {
   "cell_type": "code",
   "execution_count": 262,
   "id": "75b248db",
   "metadata": {},
   "outputs": [
    {
     "data": {
      "text/plain": [
       "0.6358506446270598"
      ]
     },
     "execution_count": 262,
     "metadata": {},
     "output_type": "execute_result"
    }
   ],
   "source": [
    "treemodel.score(x,y)"
   ]
  },
  {
   "cell_type": "code",
   "execution_count": 263,
   "id": "d5f4b831",
   "metadata": {},
   "outputs": [],
   "source": [
    "treepredict=treemodel.predict(x)"
   ]
  },
  {
   "cell_type": "code",
   "execution_count": 264,
   "id": "6201623f",
   "metadata": {},
   "outputs": [],
   "source": [
    "treeresid=y-treepredict"
   ]
  },
  {
   "cell_type": "code",
   "execution_count": 265,
   "id": "f39dc35c",
   "metadata": {},
   "outputs": [
    {
     "data": {
      "text/plain": [
       "1029.7231777812294"
      ]
     },
     "execution_count": 265,
     "metadata": {},
     "output_type": "execute_result"
    }
   ],
   "source": [
    "np.sqrt(np.mean(treeresid**2))"
   ]
  },
  {
   "cell_type": "code",
   "execution_count": 255,
   "id": "639da41c",
   "metadata": {
    "scrolled": true
   },
   "outputs": [],
   "source": [
    "treetestpred=treemodel.predict(salestest_df)"
   ]
  },
  {
   "cell_type": "code",
   "execution_count": 256,
   "id": "0d7d9147",
   "metadata": {},
   "outputs": [],
   "source": [
    "pd.DataFrame(treetestpred).to_csv(\"tree.csv\")"
   ]
  },
  {
   "cell_type": "code",
   "execution_count": null,
   "id": "fc5a82d3",
   "metadata": {},
   "outputs": [],
   "source": []
  },
  {
   "cell_type": "markdown",
   "id": "151c828a",
   "metadata": {},
   "source": [
    "# Random Forest"
   ]
  },
  {
   "cell_type": "code",
   "execution_count": 93,
   "id": "944231f4",
   "metadata": {},
   "outputs": [],
   "source": [
    "from sklearn.ensemble import RandomForestRegressor"
   ]
  },
  {
   "cell_type": "code",
   "execution_count": 393,
   "id": "fbb12cb4",
   "metadata": {},
   "outputs": [],
   "source": [
    "RF=RandomForestRegressor(max_depth=7,n_estimators=5000)"
   ]
  },
  {
   "cell_type": "code",
   "execution_count": 394,
   "id": "f2b0cd5f",
   "metadata": {},
   "outputs": [],
   "source": [
    "RFmodel=RF.fit(x,y)"
   ]
  },
  {
   "cell_type": "code",
   "execution_count": 395,
   "id": "effef0af",
   "metadata": {},
   "outputs": [
    {
     "data": {
      "text/plain": [
       "0.6360948399739269"
      ]
     },
     "execution_count": 395,
     "metadata": {},
     "output_type": "execute_result"
    }
   ],
   "source": [
    "RFmodel.score(x,y)"
   ]
  },
  {
   "cell_type": "code",
   "execution_count": 396,
   "id": "c61e0c96",
   "metadata": {},
   "outputs": [],
   "source": [
    "rfpredict=RFmodel.predict(x)"
   ]
  },
  {
   "cell_type": "code",
   "execution_count": 397,
   "id": "70a6d462",
   "metadata": {},
   "outputs": [],
   "source": [
    "rfresid=y-rfpredict"
   ]
  },
  {
   "cell_type": "code",
   "execution_count": 398,
   "id": "c1c3c6e6",
   "metadata": {},
   "outputs": [
    {
     "data": {
      "text/plain": [
       "1029.3778582376847"
      ]
     },
     "execution_count": 398,
     "metadata": {},
     "output_type": "execute_result"
    }
   ],
   "source": [
    "np.sqrt(np.mean(rfresid**2))"
   ]
  },
  {
   "cell_type": "code",
   "execution_count": 399,
   "id": "b6420dfc",
   "metadata": {},
   "outputs": [],
   "source": [
    "RFtestpredict=RFmodel.predict(salestest_df)"
   ]
  },
  {
   "cell_type": "code",
   "execution_count": 400,
   "id": "3feaf88a",
   "metadata": {},
   "outputs": [],
   "source": [
    "pd.DataFrame(RFtestpredict).to_csv('RF.csv')"
   ]
  },
  {
   "cell_type": "code",
   "execution_count": null,
   "id": "45261538",
   "metadata": {},
   "outputs": [],
   "source": []
  },
  {
   "cell_type": "markdown",
   "id": "9bc652cd",
   "metadata": {},
   "source": [
    "# catBoost"
   ]
  },
  {
   "cell_type": "code",
   "execution_count": 266,
   "id": "0b200c19",
   "metadata": {},
   "outputs": [],
   "source": [
    "from catboost import CatBoostRegressor"
   ]
  },
  {
   "cell_type": "code",
   "execution_count": 355,
   "id": "d44673a6",
   "metadata": {},
   "outputs": [],
   "source": [
    "cat=CatBoostRegressor(depth=6,iterations=100,learning_rate=0.1)"
   ]
  },
  {
   "cell_type": "code",
   "execution_count": 356,
   "id": "6cadd564",
   "metadata": {},
   "outputs": [
    {
     "name": "stdout",
     "output_type": "stream",
     "text": [
      "0:\tlearn: 1612.9519680\ttotal: 2.16ms\tremaining: 214ms\n",
      "1:\tlearn: 1530.1378403\ttotal: 4.24ms\tremaining: 208ms\n",
      "2:\tlearn: 1461.5576733\ttotal: 6.28ms\tremaining: 203ms\n",
      "3:\tlearn: 1400.0505098\ttotal: 8.39ms\tremaining: 201ms\n",
      "4:\tlearn: 1347.6091459\ttotal: 10.5ms\tremaining: 200ms\n",
      "5:\tlearn: 1304.3015482\ttotal: 12.7ms\tremaining: 199ms\n",
      "6:\tlearn: 1268.0086668\ttotal: 14.8ms\tremaining: 197ms\n",
      "7:\tlearn: 1238.3727448\ttotal: 16.9ms\tremaining: 194ms\n",
      "8:\tlearn: 1210.5338330\ttotal: 18.9ms\tremaining: 191ms\n",
      "9:\tlearn: 1187.6900831\ttotal: 20.8ms\tremaining: 187ms\n",
      "10:\tlearn: 1169.1950014\ttotal: 22.9ms\tremaining: 185ms\n",
      "11:\tlearn: 1152.2082330\ttotal: 24.9ms\tremaining: 183ms\n",
      "12:\tlearn: 1138.1054759\ttotal: 26.9ms\tremaining: 180ms\n",
      "13:\tlearn: 1126.8221142\ttotal: 28.8ms\tremaining: 177ms\n",
      "14:\tlearn: 1117.0147491\ttotal: 30.9ms\tremaining: 175ms\n",
      "15:\tlearn: 1110.8694416\ttotal: 32.9ms\tremaining: 173ms\n",
      "16:\tlearn: 1104.1349159\ttotal: 35ms\tremaining: 171ms\n",
      "17:\tlearn: 1098.3466059\ttotal: 37ms\tremaining: 169ms\n",
      "18:\tlearn: 1093.2980674\ttotal: 39.2ms\tremaining: 167ms\n",
      "19:\tlearn: 1089.4497779\ttotal: 41.2ms\tremaining: 165ms\n",
      "20:\tlearn: 1086.7375410\ttotal: 43.4ms\tremaining: 163ms\n",
      "21:\tlearn: 1083.5237642\ttotal: 45.4ms\tremaining: 161ms\n",
      "22:\tlearn: 1081.3009507\ttotal: 47.4ms\tremaining: 159ms\n",
      "23:\tlearn: 1078.5635339\ttotal: 49.5ms\tremaining: 157ms\n",
      "24:\tlearn: 1076.9544708\ttotal: 51.7ms\tremaining: 155ms\n",
      "25:\tlearn: 1075.4940269\ttotal: 53.7ms\tremaining: 153ms\n",
      "26:\tlearn: 1073.8022027\ttotal: 55.6ms\tremaining: 150ms\n",
      "27:\tlearn: 1072.8934289\ttotal: 57.3ms\tremaining: 147ms\n",
      "28:\tlearn: 1071.7226551\ttotal: 59.3ms\tremaining: 145ms\n",
      "29:\tlearn: 1070.4110431\ttotal: 61.4ms\tremaining: 143ms\n",
      "30:\tlearn: 1069.2434971\ttotal: 63.4ms\tremaining: 141ms\n",
      "31:\tlearn: 1068.4975459\ttotal: 65.3ms\tremaining: 139ms\n",
      "32:\tlearn: 1067.7981658\ttotal: 67.4ms\tremaining: 137ms\n",
      "33:\tlearn: 1066.9567593\ttotal: 69.4ms\tremaining: 135ms\n",
      "34:\tlearn: 1065.9433261\ttotal: 71.4ms\tremaining: 133ms\n",
      "35:\tlearn: 1065.4428936\ttotal: 73.5ms\tremaining: 131ms\n",
      "36:\tlearn: 1064.9477557\ttotal: 75.5ms\tremaining: 129ms\n",
      "37:\tlearn: 1064.3354981\ttotal: 77.4ms\tremaining: 126ms\n",
      "38:\tlearn: 1063.6205024\ttotal: 79.4ms\tremaining: 124ms\n",
      "39:\tlearn: 1062.9377267\ttotal: 81.4ms\tremaining: 122ms\n",
      "40:\tlearn: 1062.2231123\ttotal: 83.5ms\tremaining: 120ms\n",
      "41:\tlearn: 1061.8911693\ttotal: 85.4ms\tremaining: 118ms\n",
      "42:\tlearn: 1061.0266520\ttotal: 87.4ms\tremaining: 116ms\n",
      "43:\tlearn: 1060.1500670\ttotal: 89.4ms\tremaining: 114ms\n",
      "44:\tlearn: 1059.7334913\ttotal: 91.5ms\tremaining: 112ms\n",
      "45:\tlearn: 1059.4671612\ttotal: 93.9ms\tremaining: 110ms\n",
      "46:\tlearn: 1059.2816304\ttotal: 95.8ms\tremaining: 108ms\n",
      "47:\tlearn: 1058.3765097\ttotal: 98ms\tremaining: 106ms\n",
      "48:\tlearn: 1057.7501058\ttotal: 100ms\tremaining: 104ms\n",
      "49:\tlearn: 1057.0586462\ttotal: 102ms\tremaining: 102ms\n",
      "50:\tlearn: 1056.7645945\ttotal: 104ms\tremaining: 99.9ms\n",
      "51:\tlearn: 1056.4349989\ttotal: 106ms\tremaining: 97.7ms\n",
      "52:\tlearn: 1055.4919899\ttotal: 108ms\tremaining: 95.6ms\n",
      "53:\tlearn: 1054.9391654\ttotal: 110ms\tremaining: 93.6ms\n",
      "54:\tlearn: 1054.5452115\ttotal: 112ms\tremaining: 91.6ms\n",
      "55:\tlearn: 1054.0556527\ttotal: 114ms\tremaining: 89.5ms\n",
      "56:\tlearn: 1053.7330041\ttotal: 116ms\tremaining: 87.5ms\n",
      "57:\tlearn: 1052.9421416\ttotal: 118ms\tremaining: 85.4ms\n",
      "58:\tlearn: 1052.5557726\ttotal: 120ms\tremaining: 83.3ms\n",
      "59:\tlearn: 1052.0667039\ttotal: 122ms\tremaining: 81.3ms\n",
      "60:\tlearn: 1051.7350107\ttotal: 124ms\tremaining: 79.3ms\n",
      "61:\tlearn: 1051.0606230\ttotal: 126ms\tremaining: 77.2ms\n",
      "62:\tlearn: 1050.1877775\ttotal: 128ms\tremaining: 75.2ms\n",
      "63:\tlearn: 1049.1748133\ttotal: 130ms\tremaining: 73.1ms\n",
      "64:\tlearn: 1048.8885815\ttotal: 132ms\tremaining: 71.1ms\n",
      "65:\tlearn: 1048.3350598\ttotal: 134ms\tremaining: 69.1ms\n",
      "66:\tlearn: 1048.1403893\ttotal: 136ms\tremaining: 67ms\n",
      "67:\tlearn: 1047.6599206\ttotal: 138ms\tremaining: 64.9ms\n",
      "68:\tlearn: 1046.9549091\ttotal: 140ms\tremaining: 62.9ms\n",
      "69:\tlearn: 1046.5311952\ttotal: 142ms\tremaining: 60.8ms\n",
      "70:\tlearn: 1046.0702839\ttotal: 144ms\tremaining: 58.8ms\n",
      "71:\tlearn: 1045.5586733\ttotal: 146ms\tremaining: 56.9ms\n",
      "72:\tlearn: 1044.9331530\ttotal: 148ms\tremaining: 54.8ms\n",
      "73:\tlearn: 1044.4288855\ttotal: 150ms\tremaining: 52.7ms\n",
      "74:\tlearn: 1044.2329911\ttotal: 152ms\tremaining: 50.7ms\n",
      "75:\tlearn: 1043.8296243\ttotal: 154ms\tremaining: 48.7ms\n",
      "76:\tlearn: 1043.2963272\ttotal: 156ms\tremaining: 46.7ms\n",
      "77:\tlearn: 1042.6233727\ttotal: 158ms\tremaining: 44.6ms\n",
      "78:\tlearn: 1042.1750775\ttotal: 160ms\tremaining: 42.6ms\n",
      "79:\tlearn: 1041.7394528\ttotal: 162ms\tremaining: 40.6ms\n",
      "80:\tlearn: 1041.3617002\ttotal: 164ms\tremaining: 38.6ms\n",
      "81:\tlearn: 1040.6959318\ttotal: 166ms\tremaining: 36.5ms\n",
      "82:\tlearn: 1040.4137080\ttotal: 168ms\tremaining: 34.5ms\n",
      "83:\tlearn: 1040.1435245\ttotal: 170ms\tremaining: 32.5ms\n",
      "84:\tlearn: 1039.5236704\ttotal: 173ms\tremaining: 30.4ms\n",
      "85:\tlearn: 1038.9618727\ttotal: 175ms\tremaining: 28.4ms\n",
      "86:\tlearn: 1038.5166447\ttotal: 176ms\tremaining: 26.4ms\n",
      "87:\tlearn: 1038.2246701\ttotal: 178ms\tremaining: 24.3ms\n",
      "88:\tlearn: 1037.5018105\ttotal: 181ms\tremaining: 22.3ms\n",
      "89:\tlearn: 1036.9745068\ttotal: 183ms\tremaining: 20.3ms\n",
      "90:\tlearn: 1035.9375957\ttotal: 185ms\tremaining: 18.3ms\n",
      "91:\tlearn: 1035.3218089\ttotal: 187ms\tremaining: 16.2ms\n",
      "92:\tlearn: 1034.2139505\ttotal: 189ms\tremaining: 14.2ms\n",
      "93:\tlearn: 1033.5610331\ttotal: 191ms\tremaining: 12.2ms\n",
      "94:\tlearn: 1032.7992273\ttotal: 193ms\tremaining: 10.1ms\n",
      "95:\tlearn: 1032.1170333\ttotal: 195ms\tremaining: 8.12ms\n",
      "96:\tlearn: 1031.5600821\ttotal: 197ms\tremaining: 6.09ms\n",
      "97:\tlearn: 1030.9127172\ttotal: 199ms\tremaining: 4.06ms\n",
      "98:\tlearn: 1030.4763707\ttotal: 201ms\tremaining: 2.03ms\n",
      "99:\tlearn: 1029.9192542\ttotal: 204ms\tremaining: 0us\n"
     ]
    }
   ],
   "source": [
    "catmodel=cat.fit(x,y)"
   ]
  },
  {
   "cell_type": "code",
   "execution_count": 357,
   "id": "f93727cc",
   "metadata": {},
   "outputs": [
    {
     "data": {
      "text/plain": [
       "0.6357119516333795"
      ]
     },
     "execution_count": 357,
     "metadata": {},
     "output_type": "execute_result"
    }
   ],
   "source": [
    "catmodel.score(x,y)"
   ]
  },
  {
   "cell_type": "code",
   "execution_count": 358,
   "id": "58610994",
   "metadata": {},
   "outputs": [],
   "source": [
    "catpredict=catmodel.predict(x)"
   ]
  },
  {
   "cell_type": "code",
   "execution_count": 359,
   "id": "89c37389",
   "metadata": {},
   "outputs": [],
   "source": [
    "catresid=y-catpredict"
   ]
  },
  {
   "cell_type": "code",
   "execution_count": 360,
   "id": "1c2f7df0",
   "metadata": {},
   "outputs": [
    {
     "data": {
      "text/plain": [
       "1029.919253638844"
      ]
     },
     "execution_count": 360,
     "metadata": {},
     "output_type": "execute_result"
    }
   ],
   "source": [
    "np.sqrt(np.mean(catresid**2))"
   ]
  },
  {
   "cell_type": "code",
   "execution_count": 361,
   "id": "6d2d973f",
   "metadata": {},
   "outputs": [],
   "source": [
    "cattestpredict=catmodel.predict(salestest_df)"
   ]
  },
  {
   "cell_type": "code",
   "execution_count": 362,
   "id": "1bc1060e",
   "metadata": {},
   "outputs": [],
   "source": [
    "pd.DataFrame(cattestpredict).to_csv('cat.csv')"
   ]
  },
  {
   "cell_type": "code",
   "execution_count": null,
   "id": "f23d0b99",
   "metadata": {},
   "outputs": [],
   "source": []
  }
 ],
 "metadata": {
  "kernelspec": {
   "display_name": "Python 3 (ipykernel)",
   "language": "python",
   "name": "python3"
  },
  "language_info": {
   "codemirror_mode": {
    "name": "ipython",
    "version": 3
   },
   "file_extension": ".py",
   "mimetype": "text/x-python",
   "name": "python",
   "nbconvert_exporter": "python",
   "pygments_lexer": "ipython3",
   "version": "3.11.5"
  }
 },
 "nbformat": 4,
 "nbformat_minor": 5
}
